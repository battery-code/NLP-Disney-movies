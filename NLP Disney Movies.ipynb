{
 "cells": [
  {
   "cell_type": "code",
   "execution_count": 2,
   "id": "388aff83",
   "metadata": {},
   "outputs": [],
   "source": [
    "import numpy as np\n",
    "import pandas as pd\n",
    "import requests\n",
    "from bs4 import BeautifulSoup\n",
    "import time\n",
    "import requests, zipfile, io\n",
    "import re\n",
    "import pysrt\n",
    "import string\n",
    "from textblob import TextBlob\n",
    "import matplotlib.pyplot as plt\n",
    "%matplotlib inline"
   ]
  },
  {
   "cell_type": "markdown",
   "id": "9cdc5f0e",
   "metadata": {},
   "source": [
    "# Contents\n",
    "\n",
    "<ol>\n",
    "<li><a href=\"#intro\">Problem Statement</a></li>\n",
    "<li><a href=\"#wrangling\">Data Wrangling</a></li>\n",
    "<li><a href=\"#sentiment\">Sentiment Analysis - Initial Observations</a></li>\n",
    "    <a href=\"#pvsb\">Polarity vs Boxoffice results - 90s movies</a> <br>\n",
    "    <a href=\"#pvsr\">Polarity vs IMDB ratings - 90s movies</a> <br>\n",
    "    \n",
    "<li><a href='#arc'> Emotional Arc of movies</a>\n",
    "<li><a href='#topic'> Topic Modeling  </a>    \n",
    "</ol>\n"
   ]
  },
  {
   "cell_type": "markdown",
   "id": "9fb42411",
   "metadata": {},
   "source": [
    "## Problem Statement:\n",
    "\n",
    "Renowned Author Kurt Vonnegut was a Master's student in Anthropology at University of Chicago. His Master's thesis was rejected because the premise seemed too simple and looked fun. But he was onto something. The premise as best said by Vonnegut himself is, \"The fundamental idea is that stories have shapes which can be drawn on graph paper, and that the shape of a given society’s stories is at least as interesting as the shape of its pots or spearheads.\"\n",
    "\n",
    "The shape Vonnegut was referring to is the rise and fall of sentiment from start to finish for each story. Now, we have the tools to plot the sentiment of text. You can find numerous examples online where sentiment for different mediums were plotted. I wanted to plot the sentiment or emotional arc of Disney movies and analyze. \n",
    "\n",
    "I also wanted to perform Topic Modeling analysis of the movies to identify common themes. \n",
    "\n",
    "The work flow will be,\n",
    "1) Create the corpus\n",
    "2) Perform Sentiment analysis\n",
    "3) Perform Topic Modeling\n",
    "\n",
    "So let's get started and the first task is to get the corpus. The corpus consists of the transcript of each movie and I thought subtitle files are a good source. Hence we need to scrape subtitle files and extract the text from each.\n",
    "\n",
    " "
   ]
  },
  {
   "cell_type": "markdown",
   "id": "e99e9ce9",
   "metadata": {},
   "source": [
    "\n",
    "## Data Wrangling\n",
    "\n",
    "<ul>\n",
    "<li>A) Create a list of movies </li>\n",
    "<li>B) Obtain Summary statistics from IMDB </li>\n",
    "<li>C) Obtain Summary statistics from OMDB </li>\n",
    "<li>D) Identify a source for subtitle files and download the files </li>\n",
    "    Source: yts-subs.com hosted subtitle files and allowed to search and download each subtitle file programmatically.  \n",
    "<li>E) Extract the text from each file </li>\n",
    "</ul>"
   ]
  },
  {
   "cell_type": "markdown",
   "id": "1f8dc506",
   "metadata": {},
   "source": [
    "#### A) List of movies with summary statistics"
   ]
  },
  {
   "cell_type": "code",
   "execution_count": 12,
   "id": "d020d51d",
   "metadata": {},
   "outputs": [],
   "source": [
    "#list of disney movies created manually\n",
    "disney_df = pd.read_csv('disney_list.csv')"
   ]
  },
  {
   "cell_type": "code",
   "execution_count": 1,
   "id": "15c0ac55",
   "metadata": {},
   "outputs": [],
   "source": [
    "# disney_df.head()"
   ]
  },
  {
   "cell_type": "code",
   "execution_count": 1,
   "id": "861e6454",
   "metadata": {},
   "outputs": [],
   "source": [
    "# disney_df.info()"
   ]
  },
  {
   "cell_type": "markdown",
   "id": "adf66651",
   "metadata": {},
   "source": [
    "#### B) Summary statistics from IMDB\n",
    "\n",
    "IMDB is the most popular database for movies and it provided datasets for download. Many movie databases in the internet used the IMDB movie id as the primary key hence we will start here. "
   ]
  },
  {
   "cell_type": "code",
   "execution_count": 5,
   "id": "c12088cf",
   "metadata": {},
   "outputs": [
    {
     "name": "stderr",
     "output_type": "stream",
     "text": [
      "C:\\Users\\vbatt\\anaconda3\\lib\\site-packages\\IPython\\core\\interactiveshell.py:3437: DtypeWarning: Columns (4,5) have mixed types.Specify dtype option on import or set low_memory=False.\n",
      "  exec(code_obj, self.user_global_ns, self.user_ns)\n"
     ]
    }
   ],
   "source": [
    "#IMDB database files downloaded from https://datasets.imdbws.com/\n",
    "df_imdb_basics = pd.read_csv(r'C:\\Users\\vbatt\\JupyterNotebooks\\NLP\\movie_subtitles\\IMDB\\basics.tsv',sep='\\t')"
   ]
  },
  {
   "cell_type": "code",
   "execution_count": 6,
   "id": "9f11b8e0",
   "metadata": {},
   "outputs": [],
   "source": [
    "#cleaning and casting year field for merge\n",
    "df_imdb_basics = df_imdb_basics[df_imdb_basics['startYear'] != '\\\\N']\n",
    "df_imdb_basics['startYear'] = df_imdb_basics['startYear'].astype('int64')\n",
    "# df_imdb = df_imdb_basics[df_imdb_basics['startYear'] != '\\\\\\\\N']"
   ]
  },
  {
   "cell_type": "code",
   "execution_count": 2,
   "id": "b2d50234",
   "metadata": {},
   "outputs": [],
   "source": [
    "# df_imdb_basics.info()"
   ]
  },
  {
   "cell_type": "code",
   "execution_count": 14,
   "id": "36b40c67",
   "metadata": {},
   "outputs": [],
   "source": [
    "#merge with imdb database to add imdb movie id\n",
    "disney_df = pd.merge(disney_df,df_imdb_basics[['primaryTitle','startYear','tconst','titleType','runtimeMinutes']],left_on=['title','year'],right_on=['primaryTitle','startYear'],how='left')"
   ]
  },
  {
   "cell_type": "code",
   "execution_count": 15,
   "id": "286148e8",
   "metadata": {},
   "outputs": [],
   "source": [
    "#removing non-movie types\n",
    "disney_df = disney_df[disney_df['titleType'].str.contains('movie')==True]"
   ]
  },
  {
   "cell_type": "code",
   "execution_count": 16,
   "id": "6d0c625e",
   "metadata": {},
   "outputs": [
    {
     "data": {
      "text/html": [
       "<div>\n",
       "<style scoped>\n",
       "    .dataframe tbody tr th:only-of-type {\n",
       "        vertical-align: middle;\n",
       "    }\n",
       "\n",
       "    .dataframe tbody tr th {\n",
       "        vertical-align: top;\n",
       "    }\n",
       "\n",
       "    .dataframe thead th {\n",
       "        text-align: right;\n",
       "    }\n",
       "</style>\n",
       "<table border=\"1\" class=\"dataframe\">\n",
       "  <thead>\n",
       "    <tr style=\"text-align: right;\">\n",
       "      <th></th>\n",
       "      <th>title</th>\n",
       "      <th>year</th>\n",
       "      <th>productionStudio</th>\n",
       "      <th>primaryTitle</th>\n",
       "      <th>startYear</th>\n",
       "      <th>tconst</th>\n",
       "      <th>titleType</th>\n",
       "      <th>runtimeMinutes</th>\n",
       "    </tr>\n",
       "  </thead>\n",
       "  <tbody>\n",
       "    <tr>\n",
       "      <th>70</th>\n",
       "      <td>Cinderella</td>\n",
       "      <td>2015</td>\n",
       "      <td>Via Disney</td>\n",
       "      <td>Cinderella</td>\n",
       "      <td>2015.0</td>\n",
       "      <td>tt5089556</td>\n",
       "      <td>movie</td>\n",
       "      <td>113</td>\n",
       "    </tr>\n",
       "    <tr>\n",
       "      <th>80</th>\n",
       "      <td>Coco</td>\n",
       "      <td>2017</td>\n",
       "      <td>Via Disney/Pixar</td>\n",
       "      <td>Coco</td>\n",
       "      <td>2017.0</td>\n",
       "      <td>tt7002100</td>\n",
       "      <td>movie</td>\n",
       "      <td>98</td>\n",
       "    </tr>\n",
       "    <tr>\n",
       "      <th>226</th>\n",
       "      <td>Pocahontas</td>\n",
       "      <td>1995</td>\n",
       "      <td>Via Disney</td>\n",
       "      <td>Pocahontas</td>\n",
       "      <td>1995.0</td>\n",
       "      <td>tt9047432</td>\n",
       "      <td>movie</td>\n",
       "      <td>53</td>\n",
       "    </tr>\n",
       "    <tr>\n",
       "      <th>288</th>\n",
       "      <td>The Hunchback of Notre Dame</td>\n",
       "      <td>1996</td>\n",
       "      <td>Via Disney</td>\n",
       "      <td>The Hunchback of Notre Dame</td>\n",
       "      <td>1996.0</td>\n",
       "      <td>tt9799878</td>\n",
       "      <td>movie</td>\n",
       "      <td>65</td>\n",
       "    </tr>\n",
       "  </tbody>\n",
       "</table>\n",
       "</div>"
      ],
      "text/plain": [
       "                           title  year  productionStudio  \\\n",
       "70                    Cinderella  2015        Via Disney   \n",
       "80                          Coco  2017  Via Disney/Pixar   \n",
       "226                   Pocahontas  1995        Via Disney   \n",
       "288  The Hunchback of Notre Dame  1996        Via Disney   \n",
       "\n",
       "                    primaryTitle  startYear     tconst titleType  \\\n",
       "70                    Cinderella     2015.0  tt5089556     movie   \n",
       "80                          Coco     2017.0  tt7002100     movie   \n",
       "226                   Pocahontas     1995.0  tt9047432     movie   \n",
       "288  The Hunchback of Notre Dame     1996.0  tt9799878     movie   \n",
       "\n",
       "    runtimeMinutes  \n",
       "70             113  \n",
       "80              98  \n",
       "226             53  \n",
       "288             65  "
      ]
     },
     "execution_count": 16,
     "metadata": {},
     "output_type": "execute_result"
    }
   ],
   "source": [
    "#finding duplicates\n",
    "disney_df[disney_df['title'].duplicated()]"
   ]
  },
  {
   "cell_type": "code",
   "execution_count": 18,
   "id": "939b5450",
   "metadata": {},
   "outputs": [],
   "source": [
    "#disney_df[disney_df['title'].str.contains('Cinderella|Coco|Pocahontas|The Hunchback of Notre Dame')==True]"
   ]
  },
  {
   "cell_type": "code",
   "execution_count": 19,
   "id": "21c2ebc4",
   "metadata": {},
   "outputs": [],
   "source": [
    "#removing duplicates\n",
    "disney_df = disney_df[disney_df['tconst'].str.contains('tt9799878|tt5089556|tt7002100|tt9047432')==False]"
   ]
  },
  {
   "cell_type": "code",
   "execution_count": 21,
   "id": "e042e6e1",
   "metadata": {},
   "outputs": [],
   "source": [
    "#removing duplicate columns due to merge\n",
    "disney_df = disney_df.drop(['primaryTitle','startYear','titleType'], axis='columns')"
   ]
  },
  {
   "cell_type": "code",
   "execution_count": 3,
   "id": "168cc513",
   "metadata": {},
   "outputs": [],
   "source": [
    "# disney_df.head()"
   ]
  },
  {
   "cell_type": "markdown",
   "id": "f76f38b3",
   "metadata": {},
   "source": [
    "#### C) Scraping data from OMDB Database \n",
    "\n",
    "OMDB database http://www.omdbapi.com/ provides movie information and all in one place unlike IMDB."
   ]
  },
  {
   "cell_type": "code",
   "execution_count": 22,
   "id": "1948bda9",
   "metadata": {},
   "outputs": [],
   "source": [
    "movie_list = disney_df['tconst']\n",
    "omdb_data = []"
   ]
  },
  {
   "cell_type": "code",
   "execution_count": 23,
   "id": "7517a25a",
   "metadata": {},
   "outputs": [],
   "source": [
    "for movieID in movie_list:\n",
    "        url = (f'http://www.omdbapi.com/?i={movieID}&apikey=f5c31e3d')\n",
    "#         print(url)\n",
    "        api_data = requests.get(url).text\n",
    "        soup = BeautifulSoup(api_data)\n",
    "        omdb_data.append(eval(soup.p.text))"
   ]
  },
  {
   "cell_type": "code",
   "execution_count": 26,
   "id": "ec785981",
   "metadata": {},
   "outputs": [],
   "source": [
    "df_omdb = pd.DataFrame(omdb_data)"
   ]
  },
  {
   "cell_type": "code",
   "execution_count": 5,
   "id": "57202914",
   "metadata": {},
   "outputs": [],
   "source": [
    "# df_omdb.head(1)"
   ]
  },
  {
   "cell_type": "code",
   "execution_count": 30,
   "id": "591fe644",
   "metadata": {},
   "outputs": [],
   "source": [
    "#merge with omdb data\n",
    "disney_df = pd.merge(disney_df,df_omdb[['imdbID','imdbVotes','imdbRating','BoxOffice','Genre','Director']], left_on='tconst',right_on='imdbID',how='left')"
   ]
  },
  {
   "cell_type": "code",
   "execution_count": 31,
   "id": "56ee3a70",
   "metadata": {},
   "outputs": [
    {
     "data": {
      "text/html": [
       "<div>\n",
       "<style scoped>\n",
       "    .dataframe tbody tr th:only-of-type {\n",
       "        vertical-align: middle;\n",
       "    }\n",
       "\n",
       "    .dataframe tbody tr th {\n",
       "        vertical-align: top;\n",
       "    }\n",
       "\n",
       "    .dataframe thead th {\n",
       "        text-align: right;\n",
       "    }\n",
       "</style>\n",
       "<table border=\"1\" class=\"dataframe\">\n",
       "  <thead>\n",
       "    <tr style=\"text-align: right;\">\n",
       "      <th></th>\n",
       "      <th>title</th>\n",
       "      <th>year</th>\n",
       "      <th>productionStudio</th>\n",
       "      <th>tconst</th>\n",
       "      <th>runtimeMinutes</th>\n",
       "      <th>imdbID</th>\n",
       "      <th>imdbVotes</th>\n",
       "      <th>BoxOffice</th>\n",
       "      <th>imdbRating</th>\n",
       "      <th>Runtime</th>\n",
       "      <th>Genre</th>\n",
       "      <th>Director</th>\n",
       "    </tr>\n",
       "  </thead>\n",
       "  <tbody>\n",
       "    <tr>\n",
       "      <th>0</th>\n",
       "      <td>10 Things I Hate About You</td>\n",
       "      <td>1999</td>\n",
       "      <td>Via Disney</td>\n",
       "      <td>tt0147800</td>\n",
       "      <td>97</td>\n",
       "      <td>tt0147800</td>\n",
       "      <td>319,527</td>\n",
       "      <td>$38,178,166</td>\n",
       "      <td>7.3</td>\n",
       "      <td>97 min</td>\n",
       "      <td>Comedy, Drama, Romance</td>\n",
       "      <td>Gil Junger</td>\n",
       "    </tr>\n",
       "    <tr>\n",
       "      <th>1</th>\n",
       "      <td>101 Dalmatians</td>\n",
       "      <td>1996</td>\n",
       "      <td>Via Disney</td>\n",
       "      <td>tt0115433</td>\n",
       "      <td>103</td>\n",
       "      <td>tt0115433</td>\n",
       "      <td>108,703</td>\n",
       "      <td>$136,189,294</td>\n",
       "      <td>5.7</td>\n",
       "      <td>103 min</td>\n",
       "      <td>Adventure, Comedy, Crime</td>\n",
       "      <td>Stephen Herek</td>\n",
       "    </tr>\n",
       "    <tr>\n",
       "      <th>2</th>\n",
       "      <td>A Bug's Life</td>\n",
       "      <td>1998</td>\n",
       "      <td>Via Disney/Pixar</td>\n",
       "      <td>tt0120623</td>\n",
       "      <td>95</td>\n",
       "      <td>tt0120623</td>\n",
       "      <td>280,662</td>\n",
       "      <td>$162,798,565</td>\n",
       "      <td>7.2</td>\n",
       "      <td>95 min</td>\n",
       "      <td>Animation, Adventure, Comedy</td>\n",
       "      <td>John Lasseter, Andrew Stanton</td>\n",
       "    </tr>\n",
       "    <tr>\n",
       "      <th>3</th>\n",
       "      <td>Aladdin</td>\n",
       "      <td>1992</td>\n",
       "      <td>Via Disney</td>\n",
       "      <td>tt0103639</td>\n",
       "      <td>90</td>\n",
       "      <td>tt0103639</td>\n",
       "      <td>391,268</td>\n",
       "      <td>$217,350,219</td>\n",
       "      <td>8.0</td>\n",
       "      <td>90 min</td>\n",
       "      <td>Animation, Adventure, Comedy</td>\n",
       "      <td>Ron Clements, John Musker</td>\n",
       "    </tr>\n",
       "    <tr>\n",
       "      <th>4</th>\n",
       "      <td>Alice in Wonderland</td>\n",
       "      <td>1951</td>\n",
       "      <td>Via Disney</td>\n",
       "      <td>tt0043274</td>\n",
       "      <td>75</td>\n",
       "      <td>tt0043274</td>\n",
       "      <td>136,088</td>\n",
       "      <td>N/A</td>\n",
       "      <td>7.4</td>\n",
       "      <td>75 min</td>\n",
       "      <td>Animation, Adventure, Comedy</td>\n",
       "      <td>Clyde Geronimi, Wilfred Jackson, Hamilton Luske</td>\n",
       "    </tr>\n",
       "  </tbody>\n",
       "</table>\n",
       "</div>"
      ],
      "text/plain": [
       "                        title  year  productionStudio     tconst  \\\n",
       "0  10 Things I Hate About You  1999        Via Disney  tt0147800   \n",
       "1              101 Dalmatians  1996        Via Disney  tt0115433   \n",
       "2                A Bug's Life  1998  Via Disney/Pixar  tt0120623   \n",
       "3                     Aladdin  1992        Via Disney  tt0103639   \n",
       "4         Alice in Wonderland  1951        Via Disney  tt0043274   \n",
       "\n",
       "  runtimeMinutes     imdbID imdbVotes     BoxOffice imdbRating  Runtime  \\\n",
       "0             97  tt0147800   319,527   $38,178,166        7.3   97 min   \n",
       "1            103  tt0115433   108,703  $136,189,294        5.7  103 min   \n",
       "2             95  tt0120623   280,662  $162,798,565        7.2   95 min   \n",
       "3             90  tt0103639   391,268  $217,350,219        8.0   90 min   \n",
       "4             75  tt0043274   136,088           N/A        7.4   75 min   \n",
       "\n",
       "                          Genre  \\\n",
       "0        Comedy, Drama, Romance   \n",
       "1      Adventure, Comedy, Crime   \n",
       "2  Animation, Adventure, Comedy   \n",
       "3  Animation, Adventure, Comedy   \n",
       "4  Animation, Adventure, Comedy   \n",
       "\n",
       "                                          Director  \n",
       "0                                       Gil Junger  \n",
       "1                                    Stephen Herek  \n",
       "2                    John Lasseter, Andrew Stanton  \n",
       "3                        Ron Clements, John Musker  \n",
       "4  Clyde Geronimi, Wilfred Jackson, Hamilton Luske  "
      ]
     },
     "execution_count": 31,
     "metadata": {},
     "output_type": "execute_result"
    }
   ],
   "source": [
    "disney_df.head()"
   ]
  },
  {
   "cell_type": "markdown",
   "id": "c940e09c",
   "metadata": {},
   "source": [
    "##### Data Cleaning"
   ]
  },
  {
   "cell_type": "code",
   "execution_count": 7,
   "id": "9d16f875",
   "metadata": {},
   "outputs": [],
   "source": [
    "#dropping duplicate\n",
    "disney_df.drop('tconst',axis='columns',inplace=True)"
   ]
  },
  {
   "cell_type": "code",
   "execution_count": 33,
   "id": "c8a78bf1",
   "metadata": {},
   "outputs": [],
   "source": [
    "#replacing N/A with 0 so numeric functions can be used\n",
    "disney_df['imdbVotes'] = disney_df['imdbVotes'].str.replace('N/A','0')"
   ]
  },
  {
   "cell_type": "code",
   "execution_count": 34,
   "id": "78dbec84",
   "metadata": {},
   "outputs": [
    {
     "name": "stderr",
     "output_type": "stream",
     "text": [
      "C:\\Users\\vbatt\\anaconda3\\lib\\site-packages\\ipykernel_launcher.py:2: FutureWarning: The default value of regex will change from True to False in a future version. In addition, single character regular expressions will *not* be treated as literal strings when regex=True.\n",
      "  \n"
     ]
    }
   ],
   "source": [
    "#cleaning BoxOffice string to int\n",
    "disney_df['BoxOffice'] = disney_df['BoxOffice'].str.replace('N/A','0')\n",
    "disney_df['BoxOffice'] = disney_df['BoxOffice'].str.replace(',', '').str.replace('$', '').astype(int)"
   ]
  },
  {
   "cell_type": "code",
   "execution_count": 37,
   "id": "1317fb1e",
   "metadata": {},
   "outputs": [
    {
     "data": {
      "text/html": [
       "<div>\n",
       "<style scoped>\n",
       "    .dataframe tbody tr th:only-of-type {\n",
       "        vertical-align: middle;\n",
       "    }\n",
       "\n",
       "    .dataframe tbody tr th {\n",
       "        vertical-align: top;\n",
       "    }\n",
       "\n",
       "    .dataframe thead th {\n",
       "        text-align: right;\n",
       "    }\n",
       "</style>\n",
       "<table border=\"1\" class=\"dataframe\">\n",
       "  <thead>\n",
       "    <tr style=\"text-align: right;\">\n",
       "      <th></th>\n",
       "      <th>title</th>\n",
       "      <th>year</th>\n",
       "      <th>productionStudio</th>\n",
       "      <th>runtimeMinutes</th>\n",
       "      <th>imdbID</th>\n",
       "      <th>imdbVotes</th>\n",
       "      <th>BoxOffice</th>\n",
       "      <th>imdbRating</th>\n",
       "      <th>Genre</th>\n",
       "      <th>Director</th>\n",
       "    </tr>\n",
       "  </thead>\n",
       "  <tbody>\n",
       "    <tr>\n",
       "      <th>0</th>\n",
       "      <td>10 Things I Hate About You</td>\n",
       "      <td>1999</td>\n",
       "      <td>Via Disney</td>\n",
       "      <td>97</td>\n",
       "      <td>tt0147800</td>\n",
       "      <td>319,527</td>\n",
       "      <td>38178166</td>\n",
       "      <td>7.3</td>\n",
       "      <td>Comedy, Drama, Romance</td>\n",
       "      <td>Gil Junger</td>\n",
       "    </tr>\n",
       "  </tbody>\n",
       "</table>\n",
       "</div>"
      ],
      "text/plain": [
       "                        title  year productionStudio runtimeMinutes  \\\n",
       "0  10 Things I Hate About You  1999       Via Disney             97   \n",
       "\n",
       "      imdbID imdbVotes  BoxOffice imdbRating                   Genre  \\\n",
       "0  tt0147800   319,527   38178166        7.3  Comedy, Drama, Romance   \n",
       "\n",
       "     Director  \n",
       "0  Gil Junger  "
      ]
     },
     "execution_count": 37,
     "metadata": {},
     "output_type": "execute_result"
    }
   ],
   "source": [
    "disney_df.head(1)"
   ]
  },
  {
   "cell_type": "code",
   "execution_count": 38,
   "id": "21fb536d",
   "metadata": {},
   "outputs": [],
   "source": [
    "disney_df.to_excel('disney_df_final.xlsx')"
   ]
  },
  {
   "cell_type": "code",
   "execution_count": 40,
   "id": "337f3744",
   "metadata": {},
   "outputs": [],
   "source": [
    "# disney_df_final = pd.read_excel('disney_df_final.xlsx', index_col=0)"
   ]
  },
  {
   "cell_type": "markdown",
   "id": "13bfb99b",
   "metadata": {},
   "source": [
    "#### D) Scraping and Cleaning Subtitles from yts-subs.com\n",
    "\n",
    "yts-subs.com lists all the subtitles available for each movie in a page. The user can then pick a specific subtitle for desired language. The link leads to a subtitle download page where user can download a zip file containing the subtitle.\n",
    "\n",
    "Workflow:\n",
    "<ol>\n",
    "<li> First task is to open each movie's page in yts-sub.com domain and find the first link for an English subtitle</li> \n",
    "<li> Second task is to fetch the download link from the download page</li>\n",
    "<li> Download the zip file and unzip the subtitle .srt file to local folder</li>\n",
    "<li> Open the subtitle .srt file and extract the text for each movie</li>\n",
    "</ol>"
   ]
  },
  {
   "cell_type": "code",
   "execution_count": 45,
   "id": "ae13a787",
   "metadata": {},
   "outputs": [],
   "source": [
    "def get_sub_link(movieID):\n",
    "    '''\n",
    "    To scrape link to a movie's subtitle page from https://yts-subs.com/\n",
    "    Record entry for each movie, if subtitles was not available or if English subtitles was not available\n",
    "    '''\n",
    "\n",
    "    url = (f'https://yts-subs.com/movie-imdb/{movieID}')\n",
    "    results_page = requests.get(url).text\n",
    "    soup = BeautifulSoup(results_page,'lxml')\n",
    "\n",
    "    if soup.head.title.text == 'YIFY Subtitles - subtitles for YIFY movies':\n",
    "        s_link = 'no subtitles available'\n",
    "    else:\n",
    "        table_body = soup.find('tbody')\n",
    "        rows = table_body.find_all('tr')\n",
    "\n",
    "        for row in rows:\n",
    "            cols = row.find('span',class_=\"sub-lang\")\n",
    "            if cols.text == 'English':\n",
    "                s_link = row.find('a')['href']\n",
    "                break\n",
    "            else:\n",
    "                s_link = 'no English subtitles'\n",
    "            \n",
    "    return s_link"
   ]
  },
  {
   "cell_type": "code",
   "execution_count": 43,
   "id": "61cf851d",
   "metadata": {},
   "outputs": [],
   "source": [
    "disney_df['sub_link'] = np.NaN"
   ]
  },
  {
   "cell_type": "code",
   "execution_count": 47,
   "id": "62a7cfe9",
   "metadata": {},
   "outputs": [
    {
     "name": "stdout",
     "output_type": "stream",
     "text": [
      "Runtime: 35.62577819824219\n"
     ]
    }
   ],
   "source": [
    "#fetch and save the links to subtitles files\n",
    "start = time.time()\n",
    "\n",
    "for idx,row in disney_df.iterrows():\n",
    "    disney_df.loc[idx, 'sub_link'] = get_sub_link(row.loc['imdbID'])\n",
    "    \n",
    "end = time.time()\n",
    "print(\"Runtime:\", end - start)"
   ]
  },
  {
   "cell_type": "code",
   "execution_count": 51,
   "id": "0a687e4d",
   "metadata": {},
   "outputs": [
    {
     "data": {
      "text/html": [
       "<div>\n",
       "<style scoped>\n",
       "    .dataframe tbody tr th:only-of-type {\n",
       "        vertical-align: middle;\n",
       "    }\n",
       "\n",
       "    .dataframe tbody tr th {\n",
       "        vertical-align: top;\n",
       "    }\n",
       "\n",
       "    .dataframe thead th {\n",
       "        text-align: right;\n",
       "    }\n",
       "</style>\n",
       "<table border=\"1\" class=\"dataframe\">\n",
       "  <thead>\n",
       "    <tr style=\"text-align: right;\">\n",
       "      <th></th>\n",
       "      <th>title</th>\n",
       "      <th>year</th>\n",
       "      <th>productionStudio</th>\n",
       "      <th>runtimeMinutes</th>\n",
       "      <th>imdbID</th>\n",
       "      <th>imdbVotes</th>\n",
       "      <th>BoxOffice</th>\n",
       "      <th>imdbRating</th>\n",
       "      <th>Genre</th>\n",
       "      <th>Director</th>\n",
       "      <th>sub_link</th>\n",
       "    </tr>\n",
       "  </thead>\n",
       "  <tbody>\n",
       "  </tbody>\n",
       "</table>\n",
       "</div>"
      ],
      "text/plain": [
       "Empty DataFrame\n",
       "Columns: [title, year, productionStudio, runtimeMinutes, imdbID, imdbVotes, BoxOffice, imdbRating, Genre, Director, sub_link]\n",
       "Index: []"
      ]
     },
     "execution_count": 51,
     "metadata": {},
     "output_type": "execute_result"
    }
   ],
   "source": [
    "#checking for NA values\n",
    "disney_df[disney_df['sub_link'].isna()]"
   ]
  },
  {
   "cell_type": "code",
   "execution_count": 49,
   "id": "a4bdb0d4",
   "metadata": {},
   "outputs": [
    {
     "data": {
      "text/html": [
       "<div>\n",
       "<style scoped>\n",
       "    .dataframe tbody tr th:only-of-type {\n",
       "        vertical-align: middle;\n",
       "    }\n",
       "\n",
       "    .dataframe tbody tr th {\n",
       "        vertical-align: top;\n",
       "    }\n",
       "\n",
       "    .dataframe thead th {\n",
       "        text-align: right;\n",
       "    }\n",
       "</style>\n",
       "<table border=\"1\" class=\"dataframe\">\n",
       "  <thead>\n",
       "    <tr style=\"text-align: right;\">\n",
       "      <th></th>\n",
       "      <th>title</th>\n",
       "      <th>year</th>\n",
       "      <th>productionStudio</th>\n",
       "      <th>runtimeMinutes</th>\n",
       "      <th>imdbID</th>\n",
       "      <th>imdbVotes</th>\n",
       "      <th>BoxOffice</th>\n",
       "      <th>imdbRating</th>\n",
       "      <th>Genre</th>\n",
       "      <th>Director</th>\n",
       "      <th>sub_link</th>\n",
       "    </tr>\n",
       "  </thead>\n",
       "  <tbody>\n",
       "    <tr>\n",
       "      <th>7</th>\n",
       "      <td>Babes in Toyland</td>\n",
       "      <td>1961</td>\n",
       "      <td>Via Disney</td>\n",
       "      <td>106</td>\n",
       "      <td>tt0054649</td>\n",
       "      <td>4,015</td>\n",
       "      <td>10218316</td>\n",
       "      <td>6.2</td>\n",
       "      <td>Comedy, Family, Fantasy</td>\n",
       "      <td>Jack Donohue</td>\n",
       "      <td>no subtitles available</td>\n",
       "    </tr>\n",
       "    <tr>\n",
       "      <th>66</th>\n",
       "      <td>The Brave Little Toaster</td>\n",
       "      <td>1987</td>\n",
       "      <td>Via Disney</td>\n",
       "      <td>90</td>\n",
       "      <td>tt0092695</td>\n",
       "      <td>25,050</td>\n",
       "      <td>0</td>\n",
       "      <td>7.3</td>\n",
       "      <td>Animation, Adventure, Family</td>\n",
       "      <td>Jerry Rees</td>\n",
       "      <td>no subtitles available</td>\n",
       "    </tr>\n",
       "  </tbody>\n",
       "</table>\n",
       "</div>"
      ],
      "text/plain": [
       "                       title  year productionStudio runtimeMinutes     imdbID  \\\n",
       "7           Babes in Toyland  1961       Via Disney            106  tt0054649   \n",
       "66  The Brave Little Toaster  1987       Via Disney             90  tt0092695   \n",
       "\n",
       "   imdbVotes  BoxOffice imdbRating                         Genre  \\\n",
       "7      4,015   10218316        6.2       Comedy, Family, Fantasy   \n",
       "66    25,050          0        7.3  Animation, Adventure, Family   \n",
       "\n",
       "        Director                sub_link  \n",
       "7   Jack Donohue  no subtitles available  \n",
       "66    Jerry Rees  no subtitles available  "
      ]
     },
     "execution_count": 49,
     "metadata": {},
     "output_type": "execute_result"
    }
   ],
   "source": [
    "#movies for which a link was not found\n",
    "disney_df[disney_df.sub_link.str.contains('no subtitles available' or 'no English subtitles')]"
   ]
  },
  {
   "cell_type": "code",
   "execution_count": 52,
   "id": "d6142cc3",
   "metadata": {},
   "outputs": [],
   "source": [
    "disney_df = disney_df.drop(disney_df[(disney_df['sub_link'] == 'no English subtitles') | (disney_df['sub_link'] == 'no subtitles available')].index)"
   ]
  },
  {
   "cell_type": "code",
   "execution_count": 8,
   "id": "352e85ea",
   "metadata": {},
   "outputs": [],
   "source": [
    "# disney_df.shape"
   ]
  },
  {
   "cell_type": "code",
   "execution_count": 9,
   "id": "a9379fc1",
   "metadata": {},
   "outputs": [],
   "source": [
    "# disney_df.head(1)"
   ]
  },
  {
   "cell_type": "code",
   "execution_count": 56,
   "id": "b69df95d",
   "metadata": {},
   "outputs": [],
   "source": [
    "def get_zip_link(short_link):\n",
    "    '''\n",
    "        Scrape the subtitle download page and get the subtitle zip file link\n",
    "    '''\n",
    "    url = (f'https://yts-subs.com{short_link}')\n",
    "    sub_page = requests.get(url).text\n",
    "    soup = BeautifulSoup(sub_page,'lxml')\n",
    "    zip_link = soup.find('a',class_='btn-icon download-subtitle')['href']\n",
    "    \n",
    "    return zip_link"
   ]
  },
  {
   "cell_type": "code",
   "execution_count": 57,
   "id": "e1b136db",
   "metadata": {},
   "outputs": [],
   "source": [
    "disney_df['zip_link'] = np.NaN"
   ]
  },
  {
   "cell_type": "code",
   "execution_count": 58,
   "id": "7cef3f57",
   "metadata": {},
   "outputs": [
    {
     "name": "stdout",
     "output_type": "stream",
     "text": [
      "Runtime: 30.029327154159546\n"
     ]
    }
   ],
   "source": [
    "start = time.time()\n",
    "\n",
    "for idx,row in disney_df.iterrows():\n",
    "    disney_df.loc[idx, 'zip_link'] = get_zip_link(row.loc['sub_link'])\n",
    "    \n",
    "end = time.time()\n",
    "print(\"Runtime:\", end - start)"
   ]
  },
  {
   "cell_type": "code",
   "execution_count": 61,
   "id": "9e92f36a",
   "metadata": {},
   "outputs": [],
   "source": [
    "disney_df.to_excel('disney_df_ziplink.xlsx')\n",
    "# disney_df = pd.read_excel('disney_df_ziplink.xlsx', index_col=0)"
   ]
  },
  {
   "cell_type": "code",
   "execution_count": 65,
   "id": "7bcb7705",
   "metadata": {},
   "outputs": [],
   "source": [
    "def download_zip(link):\n",
    "    '''\n",
    "        Download the zip file from link provided and extract subtitle to a local folder and return the name of file \n",
    "        or error message if link was dead\n",
    "    '''\n",
    "    req = requests.get(link)\n",
    "    if req.ok:\n",
    "        zip_file = zipfile.ZipFile(io.BytesIO(req.content))\n",
    "        zip_file.extractall('C:\\\\Users\\\\vbatt\\\\JupyterNotebooks\\\\NLP\\\\movie_subtitles\\\\ytssubs')\n",
    "        result = zip_file.namelist()[0]\n",
    "        \n",
    "    else:\n",
    "        result = (f'Request Failed: {link}')\n",
    "    \n",
    "    return result"
   ]
  },
  {
   "cell_type": "code",
   "execution_count": 66,
   "id": "ef3410ed",
   "metadata": {},
   "outputs": [],
   "source": [
    "disney_df['zip_file_name'] = np.NaN"
   ]
  },
  {
   "cell_type": "code",
   "execution_count": 67,
   "id": "15bd75a4",
   "metadata": {},
   "outputs": [
    {
     "name": "stdout",
     "output_type": "stream",
     "text": [
      "Runtime: 58.47820997238159\n"
     ]
    }
   ],
   "source": [
    "#execute download_zip function and save the file name\n",
    "start = time.time()\n",
    "\n",
    "for idx,row in disney_df.iterrows():\n",
    "    disney_df.loc[idx, 'zip_file_name'] = download_zip(row.loc['zip_link'])\n",
    "    \n",
    "end = time.time()\n",
    "print(\"Runtime:\", end - start)"
   ]
  },
  {
   "cell_type": "code",
   "execution_count": 10,
   "id": "cb1903ba",
   "metadata": {},
   "outputs": [],
   "source": [
    "# disney_df.tail(1)"
   ]
  },
  {
   "cell_type": "code",
   "execution_count": 71,
   "id": "1002b263",
   "metadata": {},
   "outputs": [
    {
     "data": {
      "text/html": [
       "<div>\n",
       "<style scoped>\n",
       "    .dataframe tbody tr th:only-of-type {\n",
       "        vertical-align: middle;\n",
       "    }\n",
       "\n",
       "    .dataframe tbody tr th {\n",
       "        vertical-align: top;\n",
       "    }\n",
       "\n",
       "    .dataframe thead th {\n",
       "        text-align: right;\n",
       "    }\n",
       "</style>\n",
       "<table border=\"1\" class=\"dataframe\">\n",
       "  <thead>\n",
       "    <tr style=\"text-align: right;\">\n",
       "      <th></th>\n",
       "      <th>title</th>\n",
       "      <th>year</th>\n",
       "      <th>productionStudio</th>\n",
       "      <th>runtimeMinutes</th>\n",
       "      <th>imdbID</th>\n",
       "      <th>imdbVotes</th>\n",
       "      <th>BoxOffice</th>\n",
       "      <th>imdbRating</th>\n",
       "      <th>Genre</th>\n",
       "      <th>Director</th>\n",
       "      <th>sub_link</th>\n",
       "      <th>zip_link</th>\n",
       "      <th>zip_file_name</th>\n",
       "    </tr>\n",
       "  </thead>\n",
       "  <tbody>\n",
       "    <tr>\n",
       "      <th>2</th>\n",
       "      <td>A Bug's Life</td>\n",
       "      <td>1998</td>\n",
       "      <td>Via Disney/Pixar</td>\n",
       "      <td>95</td>\n",
       "      <td>tt0120623</td>\n",
       "      <td>280,662</td>\n",
       "      <td>162798565</td>\n",
       "      <td>7.2</td>\n",
       "      <td>Animation, Adventure, Comedy</td>\n",
       "      <td>John Lasseter, Andrew Stanton</td>\n",
       "      <td>/subtitles/a-bugs-life-1998-english-yify-37617</td>\n",
       "      <td>https://yifysubtitles.org/subtitle/a-bugs-life...</td>\n",
       "      <td>Request Failed: https://yifysubtitles.org/subt...</td>\n",
       "    </tr>\n",
       "    <tr>\n",
       "      <th>11</th>\n",
       "      <td>Big Hero 6</td>\n",
       "      <td>2014</td>\n",
       "      <td>Via Disney</td>\n",
       "      <td>102</td>\n",
       "      <td>tt2245084</td>\n",
       "      <td>435,337</td>\n",
       "      <td>222527828</td>\n",
       "      <td>7.8</td>\n",
       "      <td>Animation, Action, Adventure</td>\n",
       "      <td>Don Hall, Chris Williams</td>\n",
       "      <td>/subtitles/big-hero-6-2014-english-yify-126597</td>\n",
       "      <td>https://yifysubtitles.org/subtitle/big-hero-6-...</td>\n",
       "      <td>Request Failed: https://yifysubtitles.org/subt...</td>\n",
       "    </tr>\n",
       "  </tbody>\n",
       "</table>\n",
       "</div>"
      ],
      "text/plain": [
       "           title  year  productionStudio runtimeMinutes     imdbID imdbVotes  \\\n",
       "2   A Bug's Life  1998  Via Disney/Pixar             95  tt0120623   280,662   \n",
       "11    Big Hero 6  2014        Via Disney            102  tt2245084   435,337   \n",
       "\n",
       "    BoxOffice imdbRating                         Genre  \\\n",
       "2   162798565        7.2  Animation, Adventure, Comedy   \n",
       "11  222527828        7.8  Animation, Action, Adventure   \n",
       "\n",
       "                         Director  \\\n",
       "2   John Lasseter, Andrew Stanton   \n",
       "11       Don Hall, Chris Williams   \n",
       "\n",
       "                                          sub_link  \\\n",
       "2   /subtitles/a-bugs-life-1998-english-yify-37617   \n",
       "11  /subtitles/big-hero-6-2014-english-yify-126597   \n",
       "\n",
       "                                             zip_link  \\\n",
       "2   https://yifysubtitles.org/subtitle/a-bugs-life...   \n",
       "11  https://yifysubtitles.org/subtitle/big-hero-6-...   \n",
       "\n",
       "                                        zip_file_name  \n",
       "2   Request Failed: https://yifysubtitles.org/subt...  \n",
       "11  Request Failed: https://yifysubtitles.org/subt...  "
      ]
     },
     "execution_count": 71,
     "metadata": {},
     "output_type": "execute_result"
    }
   ],
   "source": [
    "#checking for failed requests\n",
    "disney_df[disney_df['zip_file_name'].str.contains('Request Failed')]"
   ]
  },
  {
   "cell_type": "code",
   "execution_count": 76,
   "id": "4b18a08b",
   "metadata": {},
   "outputs": [],
   "source": [
    "#dropping the small number of records\n",
    "disney_df = disney_df.drop(disney_df[disney_df['zip_file_name'].str.contains('Request Failed')==True].index)"
   ]
  },
  {
   "cell_type": "code",
   "execution_count": 106,
   "id": "e1156c6b",
   "metadata": {},
   "outputs": [
    {
     "data": {
      "text/html": [
       "<div>\n",
       "<style scoped>\n",
       "    .dataframe tbody tr th:only-of-type {\n",
       "        vertical-align: middle;\n",
       "    }\n",
       "\n",
       "    .dataframe tbody tr th {\n",
       "        vertical-align: top;\n",
       "    }\n",
       "\n",
       "    .dataframe thead th {\n",
       "        text-align: right;\n",
       "    }\n",
       "</style>\n",
       "<table border=\"1\" class=\"dataframe\">\n",
       "  <thead>\n",
       "    <tr style=\"text-align: right;\">\n",
       "      <th></th>\n",
       "      <th>title</th>\n",
       "      <th>year</th>\n",
       "      <th>productionStudio</th>\n",
       "      <th>runtimeMinutes</th>\n",
       "      <th>imdbID</th>\n",
       "      <th>imdbVotes</th>\n",
       "      <th>BoxOffice</th>\n",
       "      <th>imdbRating</th>\n",
       "      <th>Genre</th>\n",
       "      <th>Director</th>\n",
       "      <th>sub_link</th>\n",
       "      <th>zip_link</th>\n",
       "      <th>zip_file_name</th>\n",
       "      <th>subtitles</th>\n",
       "    </tr>\n",
       "  </thead>\n",
       "  <tbody>\n",
       "    <tr>\n",
       "      <th>5</th>\n",
       "      <td>Atlantis: The Lost Empire</td>\n",
       "      <td>2001</td>\n",
       "      <td>Via Disney</td>\n",
       "      <td>95</td>\n",
       "      <td>tt0230011</td>\n",
       "      <td>112,942</td>\n",
       "      <td>84056472</td>\n",
       "      <td>6.9</td>\n",
       "      <td>Animation, Action, Adventure</td>\n",
       "      <td>Gary Trousdale, Kirk Wise</td>\n",
       "      <td>/subtitles/atlantis-the-lost-empire-2001-engli...</td>\n",
       "      <td>https://yifysubtitles.org/subtitle/atlantis-th...</td>\n",
       "      <td>Atlantis: The Lost Empire-English.srt</td>\n",
       "      <td>NaN</td>\n",
       "    </tr>\n",
       "    <tr>\n",
       "      <th>20</th>\n",
       "      <td>DuckTales the Movie: Treasure of the Lost Lamp</td>\n",
       "      <td>1990</td>\n",
       "      <td>Via Disney</td>\n",
       "      <td>74</td>\n",
       "      <td>tt0099472</td>\n",
       "      <td>26,252</td>\n",
       "      <td>18115724</td>\n",
       "      <td>6.9</td>\n",
       "      <td>Animation, Adventure, Comedy</td>\n",
       "      <td>Bob Hathcock</td>\n",
       "      <td>/subtitles/ducktales-the-movie-treasure-of-the...</td>\n",
       "      <td>https://yifysubtitles.org/subtitle/ducktales-t...</td>\n",
       "      <td>DuckTales.the.Movie:.Treasure.of.the.Lost.Lamp...</td>\n",
       "      <td>NaN</td>\n",
       "    </tr>\n",
       "    <tr>\n",
       "      <th>51</th>\n",
       "      <td>Pirates of the Caribbean: The Curse of the Bla...</td>\n",
       "      <td>2003</td>\n",
       "      <td>Via Disney</td>\n",
       "      <td>143</td>\n",
       "      <td>tt0325980</td>\n",
       "      <td>1,055,159</td>\n",
       "      <td>305413918</td>\n",
       "      <td>8.0</td>\n",
       "      <td>Action, Adventure, Fantasy</td>\n",
       "      <td>Gore Verbinski</td>\n",
       "      <td>/subtitles/pirates-of-the-caribbean-the-curse-...</td>\n",
       "      <td>https://yifysubtitles.org/subtitle/pirates-of-...</td>\n",
       "      <td>Pirates of the Caribbean: The Curse of the Bla...</td>\n",
       "      <td>NaN</td>\n",
       "    </tr>\n",
       "    <tr>\n",
       "      <th>57</th>\n",
       "      <td>Sister Act 2: Back in the Habit</td>\n",
       "      <td>1993</td>\n",
       "      <td>Via Disney</td>\n",
       "      <td>107</td>\n",
       "      <td>tt0108147</td>\n",
       "      <td>52,262</td>\n",
       "      <td>57319029</td>\n",
       "      <td>5.7</td>\n",
       "      <td>Comedy, Family, Music</td>\n",
       "      <td>Bill Duke</td>\n",
       "      <td>/subtitles/sister-act-2-back-in-the-habit-1993...</td>\n",
       "      <td>https://yifysubtitles.org/subtitle/sister-act-...</td>\n",
       "      <td>Sister Act 2: Back in the Habit-English.srt</td>\n",
       "      <td>NaN</td>\n",
       "    </tr>\n",
       "    <tr>\n",
       "      <th>67</th>\n",
       "      <td>The Chronicles of Narnia: The Lion, the Witch ...</td>\n",
       "      <td>2005</td>\n",
       "      <td>Via Disney</td>\n",
       "      <td>143</td>\n",
       "      <td>tt0363771</td>\n",
       "      <td>383,022</td>\n",
       "      <td>291710957</td>\n",
       "      <td>6.9</td>\n",
       "      <td>Adventure, Family, Fantasy</td>\n",
       "      <td>Andrew Adamson</td>\n",
       "      <td>/subtitles/the-chronicles-of-narnia-the-lion-t...</td>\n",
       "      <td>https://yifysubtitles.org/subtitle/the-chronic...</td>\n",
       "      <td>The Chronicles of Narnia: The Lion the Witch a...</td>\n",
       "      <td>NaN</td>\n",
       "    </tr>\n",
       "  </tbody>\n",
       "</table>\n",
       "</div>"
      ],
      "text/plain": [
       "                                                title  year productionStudio  \\\n",
       "5                           Atlantis: The Lost Empire  2001       Via Disney   \n",
       "20     DuckTales the Movie: Treasure of the Lost Lamp  1990       Via Disney   \n",
       "51  Pirates of the Caribbean: The Curse of the Bla...  2003       Via Disney   \n",
       "57                    Sister Act 2: Back in the Habit  1993       Via Disney   \n",
       "67  The Chronicles of Narnia: The Lion, the Witch ...  2005       Via Disney   \n",
       "\n",
       "   runtimeMinutes     imdbID  imdbVotes  BoxOffice imdbRating  \\\n",
       "5              95  tt0230011    112,942   84056472        6.9   \n",
       "20             74  tt0099472     26,252   18115724        6.9   \n",
       "51            143  tt0325980  1,055,159  305413918        8.0   \n",
       "57            107  tt0108147     52,262   57319029        5.7   \n",
       "67            143  tt0363771    383,022  291710957        6.9   \n",
       "\n",
       "                           Genre                   Director  \\\n",
       "5   Animation, Action, Adventure  Gary Trousdale, Kirk Wise   \n",
       "20  Animation, Adventure, Comedy               Bob Hathcock   \n",
       "51    Action, Adventure, Fantasy             Gore Verbinski   \n",
       "57         Comedy, Family, Music                  Bill Duke   \n",
       "67    Adventure, Family, Fantasy             Andrew Adamson   \n",
       "\n",
       "                                             sub_link  \\\n",
       "5   /subtitles/atlantis-the-lost-empire-2001-engli...   \n",
       "20  /subtitles/ducktales-the-movie-treasure-of-the...   \n",
       "51  /subtitles/pirates-of-the-caribbean-the-curse-...   \n",
       "57  /subtitles/sister-act-2-back-in-the-habit-1993...   \n",
       "67  /subtitles/the-chronicles-of-narnia-the-lion-t...   \n",
       "\n",
       "                                             zip_link  \\\n",
       "5   https://yifysubtitles.org/subtitle/atlantis-th...   \n",
       "20  https://yifysubtitles.org/subtitle/ducktales-t...   \n",
       "51  https://yifysubtitles.org/subtitle/pirates-of-...   \n",
       "57  https://yifysubtitles.org/subtitle/sister-act-...   \n",
       "67  https://yifysubtitles.org/subtitle/the-chronic...   \n",
       "\n",
       "                                        zip_file_name subtitles  \n",
       "5               Atlantis: The Lost Empire-English.srt       NaN  \n",
       "20  DuckTales.the.Movie:.Treasure.of.the.Lost.Lamp...       NaN  \n",
       "51  Pirates of the Caribbean: The Curse of the Bla...       NaN  \n",
       "57        Sister Act 2: Back in the Habit-English.srt       NaN  \n",
       "67  The Chronicles of Narnia: The Lion the Witch a...       NaN  "
      ]
     },
     "execution_count": 106,
     "metadata": {},
     "output_type": "execute_result"
    }
   ],
   "source": [
    "#Windows automatically converted filenames with ':' to '_'\n",
    "disney_df[disney_df['zip_file_name'].str.contains(':')]"
   ]
  },
  {
   "cell_type": "code",
   "execution_count": 107,
   "id": "cc44521c",
   "metadata": {},
   "outputs": [],
   "source": [
    "#correcting filenames with ':'\n",
    "for idx,row in disney_df.iterrows():\n",
    "    disney_df.loc[idx, 'zip_file_name'] = row.loc['zip_file_name'].replace(':','_')\n"
   ]
  },
  {
   "cell_type": "code",
   "execution_count": 108,
   "id": "51b6f3c7",
   "metadata": {},
   "outputs": [
    {
     "data": {
      "text/html": [
       "<div>\n",
       "<style scoped>\n",
       "    .dataframe tbody tr th:only-of-type {\n",
       "        vertical-align: middle;\n",
       "    }\n",
       "\n",
       "    .dataframe tbody tr th {\n",
       "        vertical-align: top;\n",
       "    }\n",
       "\n",
       "    .dataframe thead th {\n",
       "        text-align: right;\n",
       "    }\n",
       "</style>\n",
       "<table border=\"1\" class=\"dataframe\">\n",
       "  <thead>\n",
       "    <tr style=\"text-align: right;\">\n",
       "      <th></th>\n",
       "      <th>title</th>\n",
       "      <th>year</th>\n",
       "      <th>productionStudio</th>\n",
       "      <th>runtimeMinutes</th>\n",
       "      <th>imdbID</th>\n",
       "      <th>imdbVotes</th>\n",
       "      <th>BoxOffice</th>\n",
       "      <th>imdbRating</th>\n",
       "      <th>Genre</th>\n",
       "      <th>Director</th>\n",
       "      <th>sub_link</th>\n",
       "      <th>zip_link</th>\n",
       "      <th>zip_file_name</th>\n",
       "      <th>subtitles</th>\n",
       "    </tr>\n",
       "  </thead>\n",
       "  <tbody>\n",
       "  </tbody>\n",
       "</table>\n",
       "</div>"
      ],
      "text/plain": [
       "Empty DataFrame\n",
       "Columns: [title, year, productionStudio, runtimeMinutes, imdbID, imdbVotes, BoxOffice, imdbRating, Genre, Director, sub_link, zip_link, zip_file_name, subtitles]\n",
       "Index: []"
      ]
     },
     "execution_count": 108,
     "metadata": {},
     "output_type": "execute_result"
    }
   ],
   "source": [
    "disney_df[disney_df['zip_file_name'].str.contains(':')]"
   ]
  },
  {
   "cell_type": "code",
   "execution_count": null,
   "id": "43dd7b2f",
   "metadata": {},
   "outputs": [],
   "source": [
    "#some files are not srt\n",
    "disney_df[disney_df['zip_file_name'].str.contains('ssa')]"
   ]
  },
  {
   "cell_type": "code",
   "execution_count": null,
   "id": "c78df275",
   "metadata": {},
   "outputs": [],
   "source": [
    "#dropping the only record\n",
    "disney_df = disney_df.drop(disney_df[disney_df['zip_file_name'].str.contains('ssa')==True].index)"
   ]
  },
  {
   "cell_type": "markdown",
   "id": "fdde20f8",
   "metadata": {},
   "source": [
    "#### E) Extracting Text from subtitle files"
   ]
  },
  {
   "cell_type": "code",
   "execution_count": 109,
   "id": "86c0f02f",
   "metadata": {},
   "outputs": [],
   "source": [
    "#import pysrt\n",
    "def extract_clean_sub(file_name):\n",
    "    '''\n",
    "        Extract the text from each subtitle .srt file using pysrt and clean the text from unwanted characters/text\n",
    "    '''\n",
    "\n",
    "    file = (f'ytssubs\\\\{file_name}') #attach the subfolder name to filename\n",
    "    subs=pysrt.open(file, encoding='ISO-8859-1')\n",
    "    text = subs.text\n",
    "    \n",
    "    #cleaning the subtitles\n",
    "    text = text.lower()\n",
    "    text = re.sub('\\[.*?\\]', '', text)  # removes all [] and text within \n",
    "    text = re.sub('<[^>]*>', '', text)  # removes all <> and text within\n",
    "    text = re.sub('\\([^)]*\\)', '', text) # removes all () and text within\n",
    "    text = re.sub('[%s]' % re.escape(string.punctuation), '', text) # removes punctuations\n",
    "    text = re.sub('\\w*\\d\\w*', '', text) #removes numbers\n",
    "    text = re.sub('[‘’“”♪…]', '', text) #removes \"\" \n",
    "    text = re.sub('\\n', ' ', text) #remove new line \\ n characters\n",
    "    text = \"\".join(c for c in text if ord(c)<128)  # remove non ascii characters\n",
    "\n",
    "            \n",
    "    return text\n"
   ]
  },
  {
   "cell_type": "code",
   "execution_count": 79,
   "id": "44357e6a",
   "metadata": {},
   "outputs": [],
   "source": [
    "disney_df['subtitles'] = np.NaN"
   ]
  },
  {
   "cell_type": "code",
   "execution_count": 110,
   "id": "fe8eed43",
   "metadata": {},
   "outputs": [
    {
     "name": "stdout",
     "output_type": "stream",
     "text": [
      "Runtime: 3.1205942630767822\n"
     ]
    }
   ],
   "source": [
    "#executing extract_clean_sub function\n",
    "start = time.time()\n",
    "\n",
    "for idx,row in disney_df.iterrows():\n",
    "    disney_df.loc[idx, 'subtitles'] = extract_clean_sub(row.loc['zip_file_name'])\n",
    "    \n",
    "end = time.time()\n",
    "print(\"Runtime:\", end - start)"
   ]
  },
  {
   "cell_type": "code",
   "execution_count": 112,
   "id": "fdfe1dc1",
   "metadata": {},
   "outputs": [
    {
     "data": {
      "text/html": [
       "<div>\n",
       "<style scoped>\n",
       "    .dataframe tbody tr th:only-of-type {\n",
       "        vertical-align: middle;\n",
       "    }\n",
       "\n",
       "    .dataframe tbody tr th {\n",
       "        vertical-align: top;\n",
       "    }\n",
       "\n",
       "    .dataframe thead th {\n",
       "        text-align: right;\n",
       "    }\n",
       "</style>\n",
       "<table border=\"1\" class=\"dataframe\">\n",
       "  <thead>\n",
       "    <tr style=\"text-align: right;\">\n",
       "      <th></th>\n",
       "      <th>title</th>\n",
       "      <th>year</th>\n",
       "      <th>productionStudio</th>\n",
       "      <th>runtimeMinutes</th>\n",
       "      <th>imdbID</th>\n",
       "      <th>imdbVotes</th>\n",
       "      <th>BoxOffice</th>\n",
       "      <th>imdbRating</th>\n",
       "      <th>Genre</th>\n",
       "      <th>Director</th>\n",
       "      <th>sub_link</th>\n",
       "      <th>zip_link</th>\n",
       "      <th>zip_file_name</th>\n",
       "      <th>subtitles</th>\n",
       "    </tr>\n",
       "  </thead>\n",
       "  <tbody>\n",
       "  </tbody>\n",
       "</table>\n",
       "</div>"
      ],
      "text/plain": [
       "Empty DataFrame\n",
       "Columns: [title, year, productionStudio, runtimeMinutes, imdbID, imdbVotes, BoxOffice, imdbRating, Genre, Director, sub_link, zip_link, zip_file_name, subtitles]\n",
       "Index: []"
      ]
     },
     "execution_count": 112,
     "metadata": {},
     "output_type": "execute_result"
    }
   ],
   "source": [
    "disney_df[disney_df['subtitles'].isna()]"
   ]
  },
  {
   "cell_type": "code",
   "execution_count": 114,
   "id": "b763c493",
   "metadata": {},
   "outputs": [
    {
     "data": {
      "text/plain": [
       "'hey ill be right with you so cameron here you go nine schools in   years my my army brat yeah my dad is thats enough im sure you wont find padua any different than your old schools same little asswipe shitforbrains everywhere excuse me did you just say am i in the right office not anymore youre not ive got deviants to see and a novel to finish now scoot scoot okay thanks thanks a lot patrick verona i see were making our visits a weekly ritual only so we can have these moments together should i hit the lights oh very clever kangaroo boy says here you exposed yourself in the cafeteria i was joking with the lunch lady it was a bratwurst bratwurst arent we the optimist next time keep it in your pouch okay scoot hello michael eckman im supposed to show you around oh hi thank god you know normally they send down one of those audio visual geeks no i do i know what you mean hey michael where should i put those slides michael so cameron heres the breakdown over there weve got your basic beautiful people now listen unless they talk to you first dont bother wait is that your rule or theirs watch hey there eat me you see that to the left we have the coffee kids that was costa rican butthead very edgy dont make any sudden movements around them these delusionals are your white rastas theyre big marley fans they think theyre black semipolitical but mostly smoke a lot of weed yeah these guys wait wait let me guess cowboys yeah but the closest theyve come to a cow is mcdonalds mcdonalds these are your future mvys were all ivy league accepted yuppie greed is back my friend hey guys how you doin close it bogey yesterday i was their god what happened bogey lozenstein started a rumor that i that i buy my izods at an outlet mall so they kicked you out hostile takeover but dont worry hell pay now over here oh my god what group is she in the dont even think about it group thats bianca stratford shes a sophomore i burn i pine i perish of course you do you know shes beautiful and deep im sure yeah but see theres a difference between like and love because i like my skechers but i love my prada backpack but i love my skechers thats because you dont have a prada backpack listen forget her incredibly uptight father and its a widely known fact that the stratford sisters arent allowed to date yeah whatever okay then what did everyone think of the sun also rises i loved it hes so romantic romantic hemingway he was an abusive alcoholic misogynist who squandered half his life hanging around picasso trying to nail his leftovers as opposed to a bitter selfrighteous hag who has no friends pipe down chachi i guess in this society being male and an asshole makes you worthy of our time what about sylvia plath or charlotte bronte or simone de beauvoir whatd i miss the oppressive patriarchal values that dictate our education good hey hey mr morgan is there any chance we could get kat to take her midol before she comes to class someday youre gonna get bitchslapped and im not gonna do a thing to stop it and kat i want to thank you for your point of view i know how difficult it must be for you to overcome all those years of uppermiddle class suburban oppression must be tough but the next time you storm the pta crusading for better lunch meat or whatever it is you white girls complain about ask them why they cant buy a book written by a black man thats right mon dont even get me started on you two anything else yeah go to the office youre pissing me off what mr morgan later undulating with desire adrienne removes her red crimson cape at the sight of reginalds stiff and judith whats another word for engorged ill look it up okay swollen turgid tumescent perfect so i hear you were terrorizing mr morgans class again expressing my opinion is not a terrorist action the way you expressed your opinion to bobby ridgezay by the way his testicle retrieval operation went quite well in case youre interested i still maintain that he kicked himself in the balls the point is kat cat people perceive you as somewhat tempestuous heinous bitch is the term used most often you might want to work on that thank you as always thank you for your excellent guidance ill let you get back to reginalds quivering member quivering member i like that virgin alert your favorite lookin good ladies oh shes out of reach even for you no ones out of reach for me you wanna put money on that money ive got this im gonna do for fun whos that guy thats joey donner hes a jerk off and a model hes a model a model mostly regional stuff but hes rumored to have a big tube sock ad coming out really really man look at her is she always so vapid how can you say that shes totally conceited what are you talking about theres more to her than you think look at the way she smiles and look at her eyes man shes totally pure youre missing whats there no no cameron no whats there is a snotty little princess wearing a strategically planned sun dress to make guys like us realize that we can never touch her and guys like joey realize that they want to she my friend is what we will spend the rest of our lives not having put her in your spank bank move on move on no no youre wrong about her i mean you know not about the spanking part but the rest youre wrong all right im wrong you wanna take a shot be my guest shes actually looking for a french tutor are you serious thats perfect do you speak french well no but i will hey your little rambo look is out kat didnt you read last months cosmo run along i know you can be overwhelmed and you can be under whelmed but can you everjust be whelmed i think you can in europe hi ladies would you szeet young things like a ride careful on the leather thats a charming new development its disgusting remove head from sphincter then drive you okay yeah just a minor encounter with the shrew thats your girlfriends sister thats biancas sister the mewling rampalian wretch herself stay cool bro yeah see you later look out my balls oh boy yeah hello katarina make anyone cry today sadly no but its only  hi daddy hello precious and where have you been nowhere hey whats this it says sarah lawrence i got in honey thats great but isnt sarah lawrence on the other side of the country thus the basis of its appeal i thought we decided you were going to stay here and go to school udub like me be a husky no you decided oh okay so what you just pick up and leave is that it lets hope so ask bianca who drove her home kat dont change the drove who drove you home now dont get upset daddy but theres this boy whos a flaming imbecile and i think he might ask me please i think i know what hes going to ask you and i think i know the answer no its always no what are the two house rules number one no dating till you graduate number two no dating till you graduate thats it daddy thats so unfair all right you want to know whats unfair this is for you too this morning i delivered a set of twins to a   girl do you know what she said to me im a crack whore who should have made my skeezy boyfriend wear a condom close but no she said i should have listened to my father she did not well thats what she would have said if she wasnt so doped up can we focus on me for a second please i am the only girl in school whos not dating oh no youre not your sister doesnt date and i dont intend to and why is that again have you seen the unwashed miscreants that go to that school where did you come from planet loser as opposed to planet look at me look at me okay heres how we solve this one old rule out new rule bianca can date when she does but shes a mutant what if she never dates then youll never date oh i like that and ill get to sleep at night the deep slumber of a father whose daughters arent out being impregnated well talk about sarah lawrence later fine wait daddy gotta go cant you just find some blind deaf retard to take you to the movies so i can have one date im sorry looks like youll just have to miss out on the witty repartee of joey eat me donner you suck hi can we make this quick roxanne corinne and andrew jarrett are having an incredibly horrendous public breakup on the quad again oh yeah okay i thought that wed start with pronunciation if thats all right with you not the hacking and gagging and spitting part please well there is an alternative there is yeah french food we could eat some together saturday night youre asking me out thats so cute whats your name again cameron listen i know that your dad doesnt let you date but i thought that if it was for french class oh wait a minute curtis cameron my dad just came up with a new rule i can date when my sister does youre kidding let me ask you do you like sailing cause i read about this place that rents boats a beaucoup problemo calvin in case you havent heard my sisters a particularly hideous breed of loser yeah yeah i noticed shes a little antisocial why is that unsolved mystery she used to be really popular and then it was like she got sick of it or something theories abound as to why but im pretty sure shes just incapable of human interaction plus shes a bitch well yeah but im sure you know that there are lots of guys who wouldnt mind going out with a difficult woman i mean you know people jump out of airplanes and ski off cliffs itd be like extreme dating you think you could find someone that extreme yeah sure why not and youd do that for me hell yes i mean you know i could look into it now i have gathered a group of guys couldnt be more perfect paduas finest hi how you doin would any of you be interested in dating katarina stratford ive never been that ripped maybe if we were the last two people alive and there were no sheep are there sheep did i or did i not tell you it was pointless no one will go out with her hey hey what about him him no dont dont look at him okay hes a criminal i heard he lit a state trooper on fire he just did a year in san quentin well at least hes horny im serious man hes whacked he sold his own liver on the black market for a new set of speakers hes our guy hi how you doin listen i okay later then how do we get him to date kat i dont know i mean we could pay him but we dont have any money yeah well what we need is a backer whats that someone with money whos stupid oh yeah is that a peach fruit rollup because you dont see many oh okay yeah all right are you lost no actually i just came by to chat we dont chat well actually i thought that id run an idea by you just to see if youre interested im not well hear me out now you want bianca right but she cant go out with you because her sister is this insane head case and no one will go out with her right does this conversation have a purpose what i think you need to do is you need to hire a guy wholl go out with her someone who doesnt scare so easily that guy i heard he ate a live duck once everything but the beak and feet clearly hes a solid investment whats in it for you hey im walking down the hall and i say hello to you you say hello to me yeah yeah i get it youre cool by association ill think about it were done now yeah what are you doing getting him involved relax now relax we let him pretend hes calling the shots while hes busy setting things up you have time with bianca that is a good idea all right i have a dick on my face dont i now remember guys grip it and rip it hey how you doin i had some great duck last night do i know you you see that girl yeah thats kat stratford i want you to go out with her yeah sure sparky look i cant take out her sister until kat starts dating you see their dads whacked out hes got this rule where the girls thats a touching story it really is not my problem would you be willing to make it your problem if i provide generous compensation youre gonna pay me to take out some chick how much twenty bucks fine  well lets think about this we go to the movies thats   bucks we get popcorn thats  and shell want raisinets right so were looking at  bucks this isnt a negotiation take it or leave it trailer park fifty bucks and we got a deal fabio great practice everybody good hustle stratford thanks mr chapin hey there girlie how you doin sweating like a pig actually and yourself now theres a way to get a guys attention huh my mission in life but obviously i struck your fancy so you see it worked the world makes sense again pick you up on friday then oh right friday well the night i take you places youve never been before like where the  on broadway do you even know my name screw boy i know a lot more than you think doubtful very doubtful we are screwed hey i dont want to hear that defeatist attitude i want to hear you upbeat were screwed there you go hey coach chapin run bogey have you ever considered a new look i mean seriously you could have some definite potential buried under all this hostility im not hostile im annoyed why dont you try being nice people wouldnt know what to think you forget i dont care what people think yes you do no i dont you dont always have to be who they want you to be you know i happen to like being adored thank you whered you get the pearls theyre moms and youve been what hiding them for three years no daddy found them in a drawer last week so youre just gonna start wearing them now its not like shes coming back to claim them besides they look good on me trust me they dont nice ride vintage fenders are you following me i was in the laundromat i saw your car i came over to say hi hi not a big talker huh depends on the topic my fenders dont really whip me into a verbal frenzy youre not afraid of me are you why would i be afraid of you well most people are well im not well maybe youre not afraid of me but im sure youve thought about me naked am i that transparent i want you i need you oh baby oh baby what is it asshole day do you mind not at all you bitch whoops whoops my insurance does not cover pms well then tell them i had a seizure is this about sarah lawrence are you punishing me because i want you to stay close to home arent you punishing me because mom left you think you could leave her out of this fine then stop making my decisions for me im your father thats my right so what i want doesnt matter youre   you dont know what you want and you wont know what you want till youre  and even if you get it youll be too old to use it i want to go to an east coast school i want you to trust me to make my own choices and i want you to stop trying to control my life just because you cant control yours yeah well you know what i want well continue this later cant wait did you just maim joeys car yeah looks like youre gonna have to take the bus has the fact that youre completely psycho managed to escape your attention daddy when i shell out  i expect results yeah im on it watching that bitch violate my car doesnt count as a date now if you dont get any i dont get any so get some i just upped my price what hundred bucks a date in advance forget it well forget her sister then you better hope youre as smooth as you think you are verona go no you go i went before we know what youre trying to do with kat stratford is that right what do you plan to do about it help you out whys that the situation is my man cameron here has a majorjones for bianca stratford what is it with this chick she have beerflavored nipples hey i i think i speak correctly when i say that camerons love is pure purer than say joey donners im in this for the cash donner can plow whoever he wants okay there will be no plowing patrick pat let me explain something to you here we set this whole thing up so cameron can get the girl cameron joeys just a pawn so you two are gonna help me tame the wild beast absolutely well do some research well find out what she likes were your guys and he means that in a strictly nonprison movie type of way lets start here now friday night bogey lozenstein is having a party its the perfect opportunity perfect opportunity for what for you to take out kat ill think about it and for a little payback this is gonna be some party lets do this now this is really important okay which one do you like better i think i like the white shirt better yeah its its more pensive damn i was going for thoughtful so are you going to bogey lozenbraus thing on friday night yeah i might good cause you know im not gonna bother if you wont be there see you there okay all right so have you heard about bogey lowensteins party yes and i really really really want to go but you know i cant not unless my sister does yeah i know im working on that but so far you know shes not going for my guy shes not a kd lang fan no i found a picture of jared leto in her drawer once so im pretty sure shes not harboring samesex tendencies okay so thats the kind of guys she likes like pretty guys i dont know all ive ever heard her say is that shed die before dating a guy that smokes okay all right no smoking what else youre asking me to investigate the inner workings of my sisters twisted mind i dont think so well nothing else has worked we need to go behind enemy lines here okay here we go class schedule reading list date book concert tickets concert tickets black panties what does that tell us she wants to have sex someday thats what you she could just like the color you dont buy black lingerie unless you want someone to see it so can i see your room no a girls room is very personal oh okay nice bike yeah you think so wow is this what a bar looks like dont touch anything you may get hepatitis so what have you got for me a little insight into a very complicated girl excuse me just one question before we start should you be drinking alcohol when you dont have a liver what nothing nothing all right first thing kat hates smokers so youre telling me im a nonsmoker yes well just for now and heres another problem bianca said that kat likes pretty guys are you telling me im not a pretty guy hes very pretty this is a gorgeous guy i just wasnt sure i didnt know all right yeah okay heres this likes thai food feminist prose and angry girl music of the indie rock persuasion heres a list of cds she has in her room so im supposed to buy her some noodles and a book and sit around listening to chicks who cant play their instruments right have you ever been to club skunk her favorite bands playing there tomorrow night i cant be seen at club skunk all right but shell be there shes got tickets assail your ears for one night she has a pair of black underwear if that helps couldnt hurt right verona what are you doing here i need agua two waters if youre planning on asking me out you might as well just get it over with do you mind youre kind of ruining this for me youre not surrounded by your usual cloud of smoke i know i quit apparently theyre bad for you you think you know these guys are no bikini kill or the raincoats but theyre not bad you know who the raincoats are why dont you i was watching you out there before ive never seen you look so sexy come to bogeys party with me you never give up do you was that a yes no well then was that a no no ill see you at  then should have used the window hi daddy hi where are we going well if you must know a small study group of friends otherwise known as an orgy mr stratford its just a party and hell is just a sauna do you know anything about a party people expect me to be there kats not going youre not going why cant you be normal define normal bogey lozensteins party is normal whats a bogey lozenstein bogeys party is just a lame excuse for all the idiots at our school to drink beer and rub up against each other in hopes of distracting themselves from the pathetic emptiness of their meaningless meaningless consumerdriven lives meaningless consumerdriven lives can you forjust one night forget that youre completely wretched and be my sister please come on kat please do this for me fine ill make an appearance its starting its just a party daddy i want you to wear the belly daddy no not all night just around the living room for a minute so you can understand the full weight of your decisions i am perfectly aware listen to me every time you even think about kissing a boy i want you to picture wearing this under your halter top you are so completely unbalanced were going now all right wait a minute no drinking no drugs no kissing no tattoos no piercings no ritual animal slaughters of any kind oh god im giving them ideas daddy what are you doing here  right oh im early whatever im driving who knocked up your sister so then bianca says that i was right that she didnt wear the kenneth coles with that dress because she thought that it was mixing genres right and the fact that i noticed and this is a direct quote listen really meant something you told me that part already ive been thinking about her all the time stop being so selfinvolved for one minute how do i look you look like my great uncle milton you think i should lose the tie yeah maybe youre right im just so nervous and im also very excited im nervous im excited its all very mixed up i dont know what to do all right just calm down all right the last party i went to was at chuck e cheese you want to talk about some fun thats a good time now remember guys dont touch anything what did i tell you must be nigel with the brie you know im im thinking of getting a tercel yeah thats a toyota it has dual side air bags and a spacious back seat kiss me kiss him okay good hey thanks man sweet looking fresh tonight pussycat wait was that did your hairline just recede hey where are you goin away your sister here stay away from my sister oh ill stay away from your sister but i cant guarantee shell stay away from me fight fight you guys please take it outside thank you hey kat look who found me bianca wait please do not address me in public no theres something i need to tell you i am busy enjoying my adolescence so scamper off and do the same bubye want one what is this right on sister ive been looking all over the place for you im getting trashed man isnt that what youre supposed to do at a party i dont know i say do what you want to do funny youre the only one later lord of the dance hi heather bite me shouldve kept the tie hey hey have you seen her around anywhere relax relax im fine follow the love hi bianca oh hi cameron you know chastity yeah i think we have art together right neat so you you really look amazing thanks and we all know i look amazing yeah bianca lets go were all congregating around mr cuervo ill see you around okay so ive got the sears catalog thing going and the tube sock gig that is gonna be huge and im up for a hemorrhoid cream ad next week i know it sounds kind of bogus but i get to do some acting you see what i did there that was underwear ill show you the bathing suit one again you see the difference all right ill show you guys is it me or does this party all of a sudden suck really really thank you hey hey kat why dont you let me have this one huh no this ones mine my man how did you get her to do it do what act like a human yeah all right go see this are you okay im fine youre not fine come on i just need to lie down you lie down and youll go to sleep sleep is good not if you have a concussion come on here sit down sit hey hey we need to talk im a little busy right now can you give me a second what its off okay the whole things off what are you talking about she never wanted me she wanted joey the whole time cameron do you like the girl yeah and is she worth all this trouble i thought she was but you know i well she is or she isnt see first of all joey is not half the man you are secondly dont let anyone ever make you feel like you dont deserve what you want go for it come on why this is so patronizing leave it to you to use big words when youre smashed i dont think so kat why are you doing this i told you you may have a concussion you dont care if i never wake up sure i do why because then id have to start taking out girls who actually like me like you could find one oh see that there who needs affection when i have blind hatred i just let me sit down for a while all right there so whyd you let him get to you who joey i hate him well youve chosen the perfect revenge mainlining tequila well you know what they say nope what do they say no no no no kat come on wake up look at me listen to me kat open your eyes hey your eyes have a little green in them i dont know if we should go hey a bunch of us are going to jarretts ready i have to be home in  minutes well you know i dont have to be home till  so one more chance man i cant damn thats a shame you wanna go sure chastity hey you passed bitch hey have fun tonight tons hey cameron do you think you could give me a ride home i should do this do what this start a band no install car stereos yeah start a band my father would love that you dont strike me as the type that would ask your father for permission oh so now you think you know me im getting there the only thing people know about me is that im scary yeah well im no picnic myself so whats up with your dad is he is he a pain in the ass no he just wants me to be somebody that im not who bianca oh bianca no offense or anything i mean i know everyone digs your sister but shes without you know youre not as vile as i thought you were maybe we should do this another time you never wanted to go sailing with me did you yes i did no you didnt okay no not actually well then thats all you had to say have you always been this selfish yes you know just cause youre beautiful that doesnt mean that you can treat people like they dont matter i mean i really liked you okay i defended you when people called you conceited i helped you when you asked me to i learned french for you and then you just blow me off so you could and im back in the game kat me lady you szay to the rhythm of me heart dance for me cozgirl kat babe what do we oze you for the table dance all right not that i give a damn but how was everybodys weekend oh i dont know maybe we should ask kat unless she kicked the crap out of your dumb butt i dont wanna hear about it okay lets open up our books to page  sonnet  and listen up in faith i do not love thee with mine eyes for they in thee a thousand errors note but tis my heart that loves what they despise who in despite of view is pleasd to dote now i know shakespeares a dead white guy but he knozs his shit so we can overlook that i want you all to write your own version of this sonnet yes miss ihaveanopinion abouteverything do you want this in iambic pentameter youre not gonna fight me on this no i think its a really good assignment youre just messin with me arent you no im really looking forward to writing it get out of my class what out get out thanks mr morgan shut up hey cool picture whats that collar for is that to keep him from licking his stitches kidding no because i know youre a fan of shakespeare more than a fan were involved okay who could refrain that had a heart to love and in that heart courage to make love known thats macbeth right right so listen i i have this friend and he likes your friend what did you do to her i didnt do anything she wouldve been too drunk to remember but the plan was working what do you care i thought you wanted out yeah well i did but that was until she kissed me where in the car sorry dweeb putz im sorry all right i talked to her i got the scoop whatd she say hates him with the fire of a thousand suns thats a direct quote thanks michael thats very comforting of you we dont know she could need a day to cool off maybe two hey can you imagine who would go to that antiquated mating ritual i would but i dont have a date do you really want to get all dressed up so some drakkar noirwearing dexter with a boner can feel you up while youre forced to listen to a band that by definition blozs all right all right we wont go its not like ive got a dress anyway youre looking at this from entirely the wrong perspective were making a statement oh goody something new and different for us hey there cupid hi joey youre concentrating awfully hard considering its gym class can i help you i want to talk to you about prom look you know the deal i cant go if kat doesnt go your sister is going since when lets just say im taking care of it this should take care of the flozers the limo the tux everything just make sure she gets to the prom do you know what im sick of playing your little game okay wait wait wait you sick of lets say  excuse me have you seen the feminine mystique ive lost my copy what are you doing here i heard there was a poetry reading youre so charming wholesome unwelcome youre not as mean as you think you are you know that and youre not as badass as you think you are someone still has her panties in a twist dont for one minute think that you had any effect whatsoever on my panties then what did i have an effect on other than my upchuck reflex nothing youre right shes still pissed sweet love renew thy force hey dont say shit like that to me people can hear you look you embarrassed the girl sacrifice yourself on the altar of dignity and even the score listen dont say shit like that to him people can hear you youre just too good to be true cant take my eyes off of you youd be like heaven to touch l wanna hold you so much at long last love has arrived and l thank god lm alive youre just too good to be true cant take my eyes off of you l love you baby and if its quite all right l need you baby to warm the lonely night l love you baby trust in me when l say oh pretty baby dont bring me down l pray oh pretty baby now that l found you stay and let me love you baby let me love you you look pretty nervous yes sir youre szeating like a pig yes sir your eyes are all bloodshot yes sir youve got pot dont you im confiscating this this too mr chapin can i talk to you for a second what can i do for you stratford i have some ideas on how we can improve the girls soccer team great lets talk about it later the window as you know we have a really big game with hillcrest high your bicep is huge oh my god the other ones even bigger you dont take steroids do you because ive heard steroids can severely disintegrate your package not that im thinking about your package thats not the point lets hope not the point is they kick our butts every year i was thinking i devised a plan that will enable us to finally defeat them which is that thing that you taught us what thing misdirection i taught you that yeah you or siegfried or roy anyway thats not important the think about it theyre looking left and were running right bang we score we win okay but how do we get em to look left like this okay well now that youve seen the plan im gonna go and show the plan to someone else okay hi i cant thank you enough for helping me sneak out of detention very cool no problem i thought for sure i was busted when i was climbing out that window i tell ya so how did you keep him distracted i dazzled him with my wits so whats your excuse for for acting the way we do i dont like to do what people expect why should i live up to other peoples expectations instead of my own so you disappoint em from the start and then youre covered right something like that then you screzed up how you never disappointed me are you up for it up for what all right come on no none of that stuff is true state trooper fallacy dead guy in the parking lot rumor the duck hearsay bobby ridgezays balls fact but he deserved it he tried to grope me in the lunch line fair enough the accent its real i lived in australia until i was   with the pygmies close with my mom where were you last year i know the porn career is a lie do you tell me something true something true i hate peas no something real something no one else knozs okay youre szeet and sexy and completely hot for me you are amazingly selfassured has anyone ever told you that i tell myself that every day actually go to the prom with me is that a request or a command come on go with me no no why not because i dont want to because its a stupid tradition come on people wont expect you to go why are you pushing this whats in it for you so now i need to have a motive to want to be with you you tell me you need therapy you know that has anyone ever told you that anszer the question patrick nothing there is nothing in it for me just the pleasure of your company okay wait wait a minute that thats not on this page seven good daddy hi honey id like to discuss tomorrow night with you as you know its the prom the prom kat has a date well no dont think youre fooling me i know who you wanna bend the rules for its that hotrod joey whats a hot rod its a if your sisters not going youre not going end of story okay lets review kat not interested me dying to go do you know what happens at proms yes daddy well dance well kiss well come home its not quite the crisis situation you imagine kissing huh thats what you think happens got nezs for you kissing isnt what keeps me up to my elbozs in placenta all day long can we for two seconds ignore the fact that youre severely unhinged and discuss my need for a night of teenage normalcy whats normal those damn dazsons river kids sleeping in each others beds and whatnot daddy that is so not got nezs for ya im down ive got the    and you are not going out and getting jiggy with some boy i dont care how dope his ride is my mama didnt raise no fool thanks bill ridiculous amounts of love across this nation worldwide believe it this is the true story seattle come in listen i know i know you hate having to sit at home because im not suzy high school like you care i do care but im a firm believer in doing something for your own reasons and not someone elses well i wish i had that luxury you know im the only sophomore that got asked to go to the prom and i cant go because you dont feel like it joey never told you that we went out did he yeah okay in ninth for a month why because he was like such a babe but you hate joey now i do so what happened please tell me youre joking just once right after mom left everyone was doing it so i did it afterwards i told him i didnt want to anymore because i wasnt ready and he got pissed and he dumped me after that i szore id never do anything just because everyone else was doing it and i havent since with the exception of bogeys party and my stunning digestive pyrotechnics how is it possible that i did not know about this i warned him that if he told anyone the cheerleading squad would find out how tiny his dick is okay so why didnt you tell me i wanted to let you make up your mind about him then why did you help daddy hold me hostage its not like im stupid enough to repeat your mistakes i guess i thought i was protecting you by not letting me experience anything for myself not all experiences are good bianca you cant always trust the people you want to well i guess ill never know will i ladies with thinning hair or bald spots glh solves the problem instantly glh is not a paint or a coverup lts an amazing powder that clings to the tiniest hairs on your head lt actually builds on itself leaving you with great greatlooking hair and the glh hair system is not expensive interesting order your glh hair package now bye dad im going to the prom funny szeetie lt instantly covers your bald spot leaving you with great looking hair whats that a prom dress i seem to be hearing that word a lot lately hi wow i wow bye daddy stop turn explain okay remember how you said i could date if kat dated well she found this guy whos actually kind of perfect for her which is perfect for me because cameron asked me to go to the prom and i really really wanna go and since kat went i guess im allozed to based on the aforementioned rule and its previous stipulations of course nice to meet you lets go i know every cop in town bucko this is not good wow you too whered you get a tux at the last minute oh just something i had you know lying around whered you get the dress oh just something i had you know lying around listen im really sorry that i questioned your motives i was wrong youre forgiven okay ready for the prom yes maam hi mr stratford im joey im here to pick up bianca have you seen him who william he asked me to meet him here oh mandella please tell me you havent progressed to fullon hallucinations milady good sir oh my god its i called in a favor what are you doing here i know you didnt think you were the only sophomore at the prom joey just picked me up oh well congratulations hes all yours very generous princess and just so you know joey only liked you for one reason he even had a bet going with his friends he was gonna nail you tonight milwaukee what thats where i was last year i wasnt in jail i dont know marilyn manson and i didnt sleep with a spice girl i dont think you see my grandpa he was ill so i spent most of the year on his couch watching wheel offortune and making spaghettios end of story no way hey whats bianca doing here with that cheese dick i didnt pay you to take out kat so some little punk could snake me with bianca nothing in it for you huh the shit hath hitteth the faneth joey pal compadre you messed with the wrong guy and now youre gonna pay you and that little bitch all right thats enough okay you crossed the line oh come on get up you little punk shit bianca im shooting a nose spray ad tomorrow thats for making my date bleed thats for my sister and thats for me are you okay never been better would you give me a chance you were paid to take me out by the one person i truly hate i knew this was a setup kat it wasnt like that okay what was it like a down payment now and a bonus for sleeping with me no i didnt care about the money i cared i cared about you you are so not who i thought you were you want thanks so you sure you dont want to go sailing with us itll be fun no im fine look i dont know if i ever thanked you for going last night but it really meant a lot to me im glad hey hey you ready see you later bye is is she okay i hope so wheres your sister going shes meeting some bikers big ones full of sperm funny so tell me about this dance was it hoppin parts of it which parts the part where bianca beat the hell out of some guy bianca did what whats the matter upset that i rubbed off on her no impressed fathers dont like to admit it when their daughters are capable of running their own lives it means weve become spectators bianca still lets me play a few innings youve had me on the bench for years and when you go to sarah lawrence i wont even be able to watch the game when i go oh boy dont tell me you changed your mind i already sent em a check all right i assume everyone has found time to complete their poem except for mr donner who has an excuse shaft lose the glasses all right anyone brave enough to read theirs aloud i will lord here we go i hate the way you talk to me and the way you cut your hair i hate the way you drive my car i hate it when you stare i hate your big dumb combat boots and the way you read my mind i hate you so much it makes me sick it even makes me rhyme i hate it i hate the way youre always right i hate it when you lie i hate it when you make me laugh even worse when you make me cry i hate it when youre not around and the fact that you didnt call but mostly i hate the way i dont hate you not even close not even a little bit not even at all nice huh a fender strat is it for me yeah i thought you could use it you know when you start your band besides i had some extra cash you know some asshole paid me to take out this really great girl is that right yeah but i screzed up i i fell for her really its not every day you find a girl wholl flash someone to get you out of detention oh god you cant just buy me a guitar every time you screw up you know yeah i know but theres always drums and bass and maybe even one day a tambourine and dont just think you can no offense i know everyone digs your sister and all but shes without you know youre not as vile as i thought you were you suck okay lets go youre just messin with me arent you no im really looking forward to doing it go see miss perky what go perkys go now once again perky now is the second one perkys now perkys now right away now perkys hey hey now perkys perkys now at the beginning of the shot perk bianca lets go were all congregating around mr cuervo ill see you around okay dont worry theres better for you and its right here come here no i wanted you for so long you messed with the wrong guy and now youre gonna pay you and that little bitch all right thats enough okay you crossed the line what are you kidding me im driving so i pick the tunes and its my car i want some coffee could i get a prophylactic a prophylactic let go how could you set me up like that oh god i just wanted to completely damage me send me to therapy forever no i just wanted ladies shall we go to my office oh my god'"
      ]
     },
     "execution_count": 114,
     "metadata": {},
     "output_type": "execute_result"
    }
   ],
   "source": [
    "disney_df['subtitles'][0]"
   ]
  },
  {
   "cell_type": "code",
   "execution_count": 137,
   "id": "1b3c90d3",
   "metadata": {},
   "outputs": [],
   "source": [
    "disney_df_final = disney_df.drop(['sub_link','zip_link','zip_file_name'],axis='columns')"
   ]
  },
  {
   "cell_type": "code",
   "execution_count": 138,
   "id": "9343da91",
   "metadata": {},
   "outputs": [],
   "source": [
    "disney_df_final.to_excel('disney_df_final.xlsx')"
   ]
  },
  {
   "cell_type": "code",
   "execution_count": 6,
   "id": "8c227fca",
   "metadata": {},
   "outputs": [],
   "source": [
    "disney_df_final = pd.read_excel('disney_df_final.xlsx', index_col=0) \n",
    "#index needs to be title so you can display name of movie in graphs"
   ]
  },
  {
   "cell_type": "code",
   "execution_count": 4,
   "id": "fb7b77af",
   "metadata": {},
   "outputs": [],
   "source": [
    "# disney_df_final = disney_df_final.drop(disney_df_final.columns[0],axis='columns')"
   ]
  },
  {
   "cell_type": "code",
   "execution_count": 11,
   "id": "71eb05b9",
   "metadata": {},
   "outputs": [],
   "source": [
    "# disney_df_final.info()"
   ]
  },
  {
   "cell_type": "code",
   "execution_count": 12,
   "id": "10a3e68f",
   "metadata": {},
   "outputs": [],
   "source": [
    "# disney_df_final.head(2)"
   ]
  },
  {
   "cell_type": "markdown",
   "id": "421d1c44",
   "metadata": {},
   "source": [
    "<a id='sentiment'></a>\n",
    "## Sentiment Analysis - Full Movie\n",
    "### Polarity and Subjectivity EDA"
   ]
  },
  {
   "cell_type": "code",
   "execution_count": 9,
   "id": "e2f4fb4b",
   "metadata": {},
   "outputs": [],
   "source": [
    "pol = lambda x: TextBlob(x).sentiment.polarity\n",
    "sub = lambda x: TextBlob(x).sentiment.subjectivity\n",
    "\n",
    "disney_df_final['polarity'] = disney_df_final['subtitles'].apply(pol)\n",
    "disney_df_final['subjectivity'] = disney_df_final['subtitles'].apply(sub)\n"
   ]
  },
  {
   "cell_type": "code",
   "execution_count": 18,
   "id": "53f317d2",
   "metadata": {},
   "outputs": [
    {
     "data": {
      "image/png": "[encoded data removed]",
      "text/plain": [
       "<Figure size 864x432 with 1 Axes>"
      ]
     },
     "metadata": {
      "needs_background": "light"
     },
     "output_type": "display_data"
    }
   ],
   "source": [
    "#plotting polarity vs subjectivity\n",
    "plt.rcParams['figure.figsize'] = [12, 6]\n",
    "\n",
    "for idx,row in disney_df_final.iterrows():\n",
    "    x = disney_df_final.loc[idx, 'polarity']\n",
    "    y = disney_df_final.loc[idx, 'subjectivity']\n",
    "    plt.scatter(x, y, color='blue')\n",
    "    plt.text(x+.001, y+.001, row.loc['title'], fontsize=8)\n",
    "   \n",
    "    \n",
    "plt.title('Sentiment Analysis', fontsize=20)\n",
    "plt.xlabel('<-- Negative -------- Positive -->', fontsize=15)\n",
    "plt.ylabel('<-- Facts -------- Opinions -->', fontsize=15)\n",
    "\n",
    "plt.show()"
   ]
  },
  {
   "cell_type": "markdown",
   "id": "607f12f2",
   "metadata": {},
   "source": [
    "### Investigating relation between Polarity and Boxoffice results - 90s movies\n",
    "\n",
    "Reducing comparison to movies 1990 to 1999 to restrict the comparison of "
   ]
  },
  {
   "cell_type": "code",
   "execution_count": 15,
   "id": "9fe1ae04",
   "metadata": {},
   "outputs": [],
   "source": [
    "disney_df_1990_99 = disney_df_final[(disney_df_final['year'] >= 2000) & (disney_df_final['year'] < 2010)]\n",
    "# disney_df_1990_99.head(2)"
   ]
  },
  {
   "cell_type": "code",
   "execution_count": 176,
   "id": "57bf8a86",
   "metadata": {},
   "outputs": [],
   "source": [
    "# disney_df_1990_99 = disney_df_1990_99.reset_index()"
   ]
  },
  {
   "cell_type": "markdown",
   "id": "294f095b",
   "metadata": {},
   "source": [
    "<a id='pvsb'></a>"
   ]
  },
  {
   "cell_type": "code",
   "execution_count": 17,
   "id": "2322d775",
   "metadata": {},
   "outputs": [
    {
     "data": {
      "image/png": "[encoded data removed]",
      "text/plain": [
       "<Figure size 864x432 with 1 Axes>"
      ]
     },
     "metadata": {
      "needs_background": "light"
     },
     "output_type": "display_data"
    }
   ],
   "source": [
    "plt.rcParams['figure.figsize'] = [12, 6]\n",
    "\n",
    "for idx,row in disney_df_1990_99.iterrows():\n",
    "\n",
    "    x = row.loc['BoxOffice']\n",
    "    y = row.loc['polarity']\n",
    "    plt.scatter(x, y, color='blue')\n",
    "    plt.text(x+.001, y+.001, row.loc['title'], fontsize=8)\n",
    "    plt.axhline(y=0, color='r', linestyle='-')\n",
    "    \n",
    "plt.title('Polarity vs Boxoffice', fontsize=20)\n",
    "plt.ylabel('--- Positive -->', fontsize=15)\n",
    "plt.xlabel('BoxOffice', fontsize=15)\n",
    "\n",
    "plt.show()"
   ]
  },
  {
   "cell_type": "markdown",
   "id": "5822e60f",
   "metadata": {},
   "source": [
    "<a id='pvsr'></a>"
   ]
  },
  {
   "cell_type": "markdown",
   "id": "85e8d1fd",
   "metadata": {},
   "source": [
    "### Investigating relation between Polarity and IMDB Rating - 90s movies"
   ]
  },
  {
   "cell_type": "code",
   "execution_count": 19,
   "id": "d70a1d19",
   "metadata": {},
   "outputs": [
    {
     "data": {
      "image/png": "[encoded data removed]",
      "text/plain": [
       "<Figure size 864x432 with 1 Axes>"
      ]
     },
     "metadata": {
      "needs_background": "light"
     },
     "output_type": "display_data"
    }
   ],
   "source": [
    "plt.rcParams['figure.figsize'] = [12, 6]\n",
    "\n",
    "for idx,row in disney_df_1990_99.iterrows():\n",
    "    x = row.loc['imdbRating']\n",
    "    y = row.loc['polarity']\n",
    "    plt.scatter(x, y, color='blue')\n",
    "    plt.text(x+.001, y+.001, row.loc['title'], fontsize=8)\n",
    "    plt.axhline(y=0, color='r', linestyle='-')\n",
    "\n",
    "\n",
    "plt.title('Polarity vs Rating', fontsize=20)\n",
    "plt.ylabel('---- Positive -->', fontsize=15)\n",
    "plt.xlabel('IMDB Rating', fontsize=15)\n",
    "\n",
    "plt.show()"
   ]
  },
  {
   "cell_type": "markdown",
   "id": "34f3bd50",
   "metadata": {},
   "source": [
    " <h4> Conclusion: An apparent relationship is not evident in these graphs. I will have to continue from other perspectives. </h4>\n"
   ]
  },
  {
   "cell_type": "markdown",
   "id": "c0368d00",
   "metadata": {},
   "source": [
    "---"
   ]
  },
  {
   "cell_type": "markdown",
   "id": "37431438",
   "metadata": {},
   "source": [
    "<a id='arc'></a>\n",
    "## Sentiment Analysis - Emotional Arc\n",
    "\n",
    "Instead of using one metric for the whole movie, I would next like to split the movie into parts and see how the polarity changes during the movie. "
   ]
  },
  {
   "cell_type": "code",
   "execution_count": 21,
   "id": "369cfb6c",
   "metadata": {},
   "outputs": [],
   "source": [
    "def partition_polarity(text, n):\n",
    "    '''Takes in a string of text and splits into n equal parts, with a default of n equal parts.'''\n",
    "\n",
    "    # Calculate length of text, the size of each partition of text and the starting points of each chunk\n",
    "    length = len(text)\n",
    "    partition_size = int(length / n)\n",
    "    start = np.arange(0, length, partition_size)\n",
    "    \n",
    "    # Pull out equally sized pieces of text and put it into a list\n",
    "    pol_list = []\n",
    "    for i in range(n):\n",
    "        partition = text[start[i]:(start[i]+partition_size)]\n",
    "        pol_list.append(TextBlob(partition).sentiment.polarity)\n",
    "#         pol_list.append(text[start[i]:(start[i]+partition_size)])\n",
    "        \n",
    "    return pol_list"
   ]
  },
  {
   "cell_type": "code",
   "execution_count": 22,
   "id": "dae58035",
   "metadata": {},
   "outputs": [],
   "source": [
    "# disney_df_final['polarity_change'] = np.NaN"
   ]
  },
  {
   "cell_type": "code",
   "execution_count": 25,
   "id": "30106e29",
   "metadata": {},
   "outputs": [],
   "source": [
    "polarity_list = []\n",
    "\n",
    "for idx,row in disney_df_final.iterrows():\n",
    "    polarity_list.append(partition_polarity(row.loc['subtitles'],3))\n",
    "        "
   ]
  },
  {
   "cell_type": "code",
   "execution_count": 16,
   "id": "41029694",
   "metadata": {},
   "outputs": [
    {
     "data": {
      "image/png": "[encoded data removed]",
      "text/plain": [
       "<Figure size 432x288 with 1 Axes>"
      ]
     },
     "metadata": {
      "needs_background": "light"
     },
     "output_type": "display_data"
    }
   ],
   "source": [
    "plt.rcParams['figure.figsize'] = [6, 4]\n",
    "plt.plot(polarity_list[0])\n",
    "plt.title(disney_df_final['title'].index[0])\n",
    "plt.show()"
   ]
  },
  {
   "cell_type": "code",
   "execution_count": 17,
   "id": "350f2402",
   "metadata": {},
   "outputs": [
    {
     "data": {
      "image/png": "[encoded data removed]",
      "text/plain": [
       "<Figure size 1728x1152 with 24 Axes>"
      ]
     },
     "metadata": {
      "needs_background": "light"
     },
     "output_type": "display_data"
    }
   ],
   "source": [
    "plt.rcParams['figure.figsize'] = [24, 16]\n",
    "\n",
    "for idx,row in disney_df_final.iterrows():\n",
    "    if idx >=0 and idx <=23:\n",
    "#         print (idx)\n",
    "        plt.subplot(4, 6, idx+1)\n",
    "        plt.plot(polarity_list[idx])\n",
    "        plt.axhline(y=0, color='r', linestyle='-')\n",
    "        plt.title(disney_df_final['title'][idx])\n",
    "    else:\n",
    "        break\n",
    "\n",
    "# plt.show()"
   ]
  },
  {
   "cell_type": "code",
   "execution_count": 19,
   "id": "610109f8",
   "metadata": {},
   "outputs": [],
   "source": [
    "disney_df_graph2 = disney_df_final.iloc[24:48,:].reset_index()\n",
    "polarity_list_graph2 = polarity_list[24:48]"
   ]
  },
  {
   "cell_type": "code",
   "execution_count": 20,
   "id": "a56a7277",
   "metadata": {},
   "outputs": [
    {
     "data": {
      "image/png": "[encoded data removed]",
      "text/plain": [
       "<Figure size 1728x1152 with 24 Axes>"
      ]
     },
     "metadata": {
      "needs_background": "light"
     },
     "output_type": "display_data"
    }
   ],
   "source": [
    "plt.rcParams['figure.figsize'] = [24, 16]\n",
    "\n",
    "for idx,row in disney_df_graph2.iterrows():\n",
    "#         print (idx)\n",
    "    plt.subplot(4, 6, idx+1)\n",
    "    plt.plot(polarity_list_graph2[idx])\n",
    "    plt.axhline(y=0, color='r', linestyle='-')\n",
    "    plt.title(disney_df_graph2['title'][idx])\n",
    "\n",
    "\n",
    "plt.show()"
   ]
  },
  {
   "cell_type": "markdown",
   "id": "1bb3b3d7",
   "metadata": {},
   "source": [
    "### Inference:\n",
    "\n",
    "From the graphs, I do see many having a V shaped arc or inverted V arc.  \n",
    "How many of the movies have this V or Inverted-V arc?"
   ]
  },
  {
   "cell_type": "code",
   "execution_count": 187,
   "id": "22118785",
   "metadata": {},
   "outputs": [
    {
     "name": "stdout",
     "output_type": "stream",
     "text": [
      "0.3977272727272727\n"
     ]
    }
   ],
   "source": [
    "#percent of movies with V arc\n",
    "i=0\n",
    "for polarity in polarity_list:\n",
    "    if ((polarity[0] > polarity[1]) & (polarity[2] > polarity[1])):\n",
    "        i += 1\n",
    "\n",
    "print(i/len(polarity_list))"
   ]
  },
  {
   "cell_type": "code",
   "execution_count": 188,
   "id": "c699e216",
   "metadata": {},
   "outputs": [
    {
     "name": "stdout",
     "output_type": "stream",
     "text": [
      "0.2159090909090909\n"
     ]
    }
   ],
   "source": [
    "# percent of movies with inverted V arc\n",
    "j=0\n",
    "for polarity in polarity_list:\n",
    "    if ((polarity[0] < polarity[1]) & (polarity[2] < polarity[1])):\n",
    "        j += 1\n",
    "\n",
    "print(j/len(polarity_list))"
   ]
  },
  {
   "cell_type": "markdown",
   "id": "0401f34a",
   "metadata": {},
   "source": [
    "### Inference:\n",
    "\n",
    "40% of the movies have the V shaped emotional arc while 21% with the inverted V arc. "
   ]
  },
  {
   "cell_type": "markdown",
   "id": "648311f3",
   "metadata": {},
   "source": [
    "<a id='topic'></a>\n",
    "\n",
    "## Topic Modeling"
   ]
  },
  {
   "cell_type": "code",
   "execution_count": 44,
   "id": "708d4cce",
   "metadata": {},
   "outputs": [],
   "source": [
    "from sklearn.feature_extraction import text \n",
    "from sklearn.feature_extraction.text import CountVectorizer\n",
    "from gensim import matutils, models\n",
    "import scipy.sparse\n",
    "from nltk import word_tokenize, pos_tag"
   ]
  },
  {
   "cell_type": "code",
   "execution_count": 84,
   "id": "6fc57b93",
   "metadata": {},
   "outputs": [],
   "source": [
    "cv = CountVectorizer(stop_words='english')\n",
    "data_cv = cv.fit_transform(disney_df_final.subtitles)\n",
    "data_dtm = pd.DataFrame(data_cv.toarray(), columns=cv.get_feature_names())\n",
    "data_dtm.index = disney_df_final['title']\n",
    "# data_dtm"
   ]
  },
  {
   "cell_type": "code",
   "execution_count": 85,
   "id": "b754b2f5",
   "metadata": {},
   "outputs": [
    {
     "data": {
      "text/html": [
       "<div>\n",
       "<style scoped>\n",
       "    .dataframe tbody tr th:only-of-type {\n",
       "        vertical-align: middle;\n",
       "    }\n",
       "\n",
       "    .dataframe tbody tr th {\n",
       "        vertical-align: top;\n",
       "    }\n",
       "\n",
       "    .dataframe thead th {\n",
       "        text-align: right;\n",
       "    }\n",
       "</style>\n",
       "<table border=\"1\" class=\"dataframe\">\n",
       "  <thead>\n",
       "    <tr style=\"text-align: right;\">\n",
       "      <th></th>\n",
       "      <th>aa</th>\n",
       "      <th>aaa</th>\n",
       "      <th>aaaaaaaah</th>\n",
       "      <th>aaaaaaah</th>\n",
       "      <th>aaaaaah</th>\n",
       "      <th>aaaaah</th>\n",
       "      <th>aaaaahhhhh</th>\n",
       "      <th>aaaah</th>\n",
       "      <th>aaah</th>\n",
       "      <th>aaargh</th>\n",
       "      <th>...</th>\n",
       "      <th>zpds</th>\n",
       "      <th>zs</th>\n",
       "      <th>zuider</th>\n",
       "      <th>zulu</th>\n",
       "      <th>zumba</th>\n",
       "      <th>zurg</th>\n",
       "      <th>zurgs</th>\n",
       "      <th>zut</th>\n",
       "      <th>zwei</th>\n",
       "      <th>zydeco</th>\n",
       "    </tr>\n",
       "    <tr>\n",
       "      <th>title</th>\n",
       "      <th></th>\n",
       "      <th></th>\n",
       "      <th></th>\n",
       "      <th></th>\n",
       "      <th></th>\n",
       "      <th></th>\n",
       "      <th></th>\n",
       "      <th></th>\n",
       "      <th></th>\n",
       "      <th></th>\n",
       "      <th></th>\n",
       "      <th></th>\n",
       "      <th></th>\n",
       "      <th></th>\n",
       "      <th></th>\n",
       "      <th></th>\n",
       "      <th></th>\n",
       "      <th></th>\n",
       "      <th></th>\n",
       "      <th></th>\n",
       "      <th></th>\n",
       "    </tr>\n",
       "  </thead>\n",
       "  <tbody>\n",
       "    <tr>\n",
       "      <th>Avatar</th>\n",
       "      <td>0</td>\n",
       "      <td>0</td>\n",
       "      <td>0</td>\n",
       "      <td>0</td>\n",
       "      <td>0</td>\n",
       "      <td>0</td>\n",
       "      <td>0</td>\n",
       "      <td>0</td>\n",
       "      <td>0</td>\n",
       "      <td>0</td>\n",
       "      <td>...</td>\n",
       "      <td>0</td>\n",
       "      <td>0</td>\n",
       "      <td>0</td>\n",
       "      <td>0</td>\n",
       "      <td>0</td>\n",
       "      <td>0</td>\n",
       "      <td>0</td>\n",
       "      <td>0</td>\n",
       "      <td>0</td>\n",
       "      <td>0</td>\n",
       "    </tr>\n",
       "    <tr>\n",
       "      <th>Bambi</th>\n",
       "      <td>0</td>\n",
       "      <td>0</td>\n",
       "      <td>0</td>\n",
       "      <td>0</td>\n",
       "      <td>0</td>\n",
       "      <td>0</td>\n",
       "      <td>0</td>\n",
       "      <td>0</td>\n",
       "      <td>0</td>\n",
       "      <td>0</td>\n",
       "      <td>...</td>\n",
       "      <td>0</td>\n",
       "      <td>0</td>\n",
       "      <td>0</td>\n",
       "      <td>0</td>\n",
       "      <td>0</td>\n",
       "      <td>0</td>\n",
       "      <td>0</td>\n",
       "      <td>0</td>\n",
       "      <td>0</td>\n",
       "      <td>0</td>\n",
       "    </tr>\n",
       "  </tbody>\n",
       "</table>\n",
       "<p>2 rows × 21427 columns</p>\n",
       "</div>"
      ],
      "text/plain": [
       "        aa  aaa  aaaaaaaah  aaaaaaah  aaaaaah  aaaaah  aaaaahhhhh  aaaah  \\\n",
       "title                                                                      \n",
       "Avatar   0    0          0         0        0       0           0      0   \n",
       "Bambi    0    0          0         0        0       0           0      0   \n",
       "\n",
       "        aaah  aaargh  ...  zpds  zs  zuider  zulu  zumba  zurg  zurgs  zut  \\\n",
       "title                 ...                                                    \n",
       "Avatar     0       0  ...     0   0       0     0      0     0      0    0   \n",
       "Bambi      0       0  ...     0   0       0     0      0     0      0    0   \n",
       "\n",
       "        zwei  zydeco  \n",
       "title                 \n",
       "Avatar     0       0  \n",
       "Bambi      0       0  \n",
       "\n",
       "[2 rows x 21427 columns]"
      ]
     },
     "execution_count": 85,
     "metadata": {},
     "output_type": "execute_result"
    }
   ],
   "source": [
    "data_dtm.head(2)"
   ]
  },
  {
   "cell_type": "code",
   "execution_count": 86,
   "id": "006edb0b",
   "metadata": {},
   "outputs": [],
   "source": [
    "# One of the required inputs for gensim- term-document matrix\n",
    "data_T = data_dtm.transpose()"
   ]
  },
  {
   "cell_type": "code",
   "execution_count": 87,
   "id": "e28cf878",
   "metadata": {},
   "outputs": [
    {
     "data": {
      "text/html": [
       "<div>\n",
       "<style scoped>\n",
       "    .dataframe tbody tr th:only-of-type {\n",
       "        vertical-align: middle;\n",
       "    }\n",
       "\n",
       "    .dataframe tbody tr th {\n",
       "        vertical-align: top;\n",
       "    }\n",
       "\n",
       "    .dataframe thead th {\n",
       "        text-align: right;\n",
       "    }\n",
       "</style>\n",
       "<table border=\"1\" class=\"dataframe\">\n",
       "  <thead>\n",
       "    <tr style=\"text-align: right;\">\n",
       "      <th>title</th>\n",
       "      <th>Avatar</th>\n",
       "      <th>Bambi</th>\n",
       "      <th>Beauty and the Beast</th>\n",
       "      <th>Bedknobs and Broomsticks</th>\n",
       "      <th>Big Hero 6</th>\n",
       "      <th>Brave</th>\n",
       "      <th>Cars</th>\n",
       "      <th>Cars 2</th>\n",
       "      <th>Cars 3</th>\n",
       "      <th>Cinderella</th>\n",
       "      <th>...</th>\n",
       "      <th>Tuck Everlasting</th>\n",
       "      <th>Up</th>\n",
       "      <th>Who Framed Roger Rabbit</th>\n",
       "      <th>Zootopia</th>\n",
       "      <th>10 Things I Hate About You</th>\n",
       "      <th>101 Dalmatians</th>\n",
       "      <th>A Bug's Life</th>\n",
       "      <th>Aladdin</th>\n",
       "      <th>Alice in Wonderland</th>\n",
       "      <th>Atlantis: The Lost Empire</th>\n",
       "    </tr>\n",
       "  </thead>\n",
       "  <tbody>\n",
       "    <tr>\n",
       "      <th>aa</th>\n",
       "      <td>0</td>\n",
       "      <td>0</td>\n",
       "      <td>0</td>\n",
       "      <td>0</td>\n",
       "      <td>0</td>\n",
       "      <td>1</td>\n",
       "      <td>0</td>\n",
       "      <td>0</td>\n",
       "      <td>0</td>\n",
       "      <td>0</td>\n",
       "      <td>...</td>\n",
       "      <td>0</td>\n",
       "      <td>0</td>\n",
       "      <td>0</td>\n",
       "      <td>0</td>\n",
       "      <td>0</td>\n",
       "      <td>0</td>\n",
       "      <td>0</td>\n",
       "      <td>0</td>\n",
       "      <td>0</td>\n",
       "      <td>0</td>\n",
       "    </tr>\n",
       "    <tr>\n",
       "      <th>aaa</th>\n",
       "      <td>0</td>\n",
       "      <td>0</td>\n",
       "      <td>0</td>\n",
       "      <td>0</td>\n",
       "      <td>0</td>\n",
       "      <td>0</td>\n",
       "      <td>0</td>\n",
       "      <td>1</td>\n",
       "      <td>0</td>\n",
       "      <td>0</td>\n",
       "      <td>...</td>\n",
       "      <td>0</td>\n",
       "      <td>0</td>\n",
       "      <td>0</td>\n",
       "      <td>0</td>\n",
       "      <td>0</td>\n",
       "      <td>0</td>\n",
       "      <td>0</td>\n",
       "      <td>0</td>\n",
       "      <td>0</td>\n",
       "      <td>0</td>\n",
       "    </tr>\n",
       "    <tr>\n",
       "      <th>aaaaaaaah</th>\n",
       "      <td>0</td>\n",
       "      <td>0</td>\n",
       "      <td>0</td>\n",
       "      <td>0</td>\n",
       "      <td>0</td>\n",
       "      <td>0</td>\n",
       "      <td>0</td>\n",
       "      <td>0</td>\n",
       "      <td>0</td>\n",
       "      <td>0</td>\n",
       "      <td>...</td>\n",
       "      <td>0</td>\n",
       "      <td>0</td>\n",
       "      <td>0</td>\n",
       "      <td>0</td>\n",
       "      <td>0</td>\n",
       "      <td>0</td>\n",
       "      <td>0</td>\n",
       "      <td>0</td>\n",
       "      <td>0</td>\n",
       "      <td>0</td>\n",
       "    </tr>\n",
       "  </tbody>\n",
       "</table>\n",
       "<p>3 rows × 91 columns</p>\n",
       "</div>"
      ],
      "text/plain": [
       "title      Avatar  Bambi  Beauty and the Beast  Bedknobs and Broomsticks  \\\n",
       "aa              0      0                     0                         0   \n",
       "aaa             0      0                     0                         0   \n",
       "aaaaaaaah       0      0                     0                         0   \n",
       "\n",
       "title      Big Hero 6  Brave  Cars  Cars 2  Cars 3  Cinderella  ...  \\\n",
       "aa                  0      1     0       0       0           0  ...   \n",
       "aaa                 0      0     0       1       0           0  ...   \n",
       "aaaaaaaah           0      0     0       0       0           0  ...   \n",
       "\n",
       "title      Tuck Everlasting  Up  Who Framed Roger Rabbit  Zootopia  \\\n",
       "aa                        0   0                        0         0   \n",
       "aaa                       0   0                        0         0   \n",
       "aaaaaaaah                 0   0                        0         0   \n",
       "\n",
       "title      10 Things I Hate About You  101 Dalmatians  A Bug's Life  Aladdin  \\\n",
       "aa                                  0               0             0        0   \n",
       "aaa                                 0               0             0        0   \n",
       "aaaaaaaah                           0               0             0        0   \n",
       "\n",
       "title      Alice in Wonderland  Atlantis: The Lost Empire  \n",
       "aa                           0                          0  \n",
       "aaa                          0                          0  \n",
       "aaaaaaaah                    0                          0  \n",
       "\n",
       "[3 rows x 91 columns]"
      ]
     },
     "execution_count": 87,
     "metadata": {},
     "output_type": "execute_result"
    }
   ],
   "source": [
    "data_T.head(3)"
   ]
  },
  {
   "cell_type": "markdown",
   "id": "0adf4c85",
   "metadata": {},
   "source": [
    "#### Word Count Analysis"
   ]
  },
  {
   "cell_type": "code",
   "execution_count": 91,
   "id": "cf460c98",
   "metadata": {},
   "outputs": [],
   "source": [
    "# Find the top words in each movie\n",
    "top_dict = {}\n",
    "for c in data_T.columns:\n",
    "    top = data_T[c].sort_values(ascending=False).head(10)\n",
    "    top_dict[c]= list(zip(top.index, top.values))"
   ]
  },
  {
   "cell_type": "code",
   "execution_count": 95,
   "id": "32d212e9",
   "metadata": {},
   "outputs": [
    {
     "data": {
      "text/plain": [
       "{'Lady and the Tramp': [('oh', 61),\n",
       "  ('lady', 34),\n",
       "  ('come', 29),\n",
       "  ('hes', 28),\n",
       "  ('dont', 28),\n",
       "  ('right', 27),\n",
       "  ('darling', 26),\n",
       "  ('little', 25),\n",
       "  ('hey', 23),\n",
       "  ('uh', 22)],\n",
       " 'Lilo & Stitch': [('lilo', 70),\n",
       "  ('oh', 54),\n",
       "  ('dont', 43),\n",
       "  ('like', 37),\n",
       "  ('im', 35),\n",
       "  ('uh', 33),\n",
       "  ('youre', 32),\n",
       "  ('just', 32),\n",
       "  ('ka', 30),\n",
       "  ('know', 29)],\n",
       " 'Luca': [('just', 65),\n",
       "  ('dont', 59),\n",
       "  ('oh', 55),\n",
       "  ('luca', 50),\n",
       "  ('yeah', 48),\n",
       "  ('know', 47),\n",
       "  ('im', 45),\n",
       "  ('uh', 44),\n",
       "  ('hey', 41),\n",
       "  ('huh', 39)],\n",
       " 'Maleficent': [('maleficent', 29),\n",
       "  ('im', 29),\n",
       "  ('dont', 19),\n",
       "  ('come', 19),\n",
       "  ('aurora', 18),\n",
       "  ('king', 17),\n",
       "  ('time', 13),\n",
       "  ('stefan', 13),\n",
       "  ('know', 13),\n",
       "  ('need', 12)],\n",
       " 'Mary Poppins': [('ha', 64),\n",
       "  ('mary', 41),\n",
       "  ('dont', 41),\n",
       "  ('diddle', 40),\n",
       "  ('oh', 33),\n",
       "  ('yes', 30),\n",
       "  ('good', 29),\n",
       "  ('say', 28),\n",
       "  ('time', 25),\n",
       "  ('poppins', 25)],\n",
       " 'Moana': [('youre', 59),\n",
       "  ('im', 51),\n",
       "  ('maui', 47),\n",
       "  ('know', 44),\n",
       "  ('moana', 42),\n",
       "  ('heart', 42),\n",
       "  ('te', 40),\n",
       "  ('just', 34),\n",
       "  ('hook', 29),\n",
       "  ('sea', 26)],\n",
       " 'Monsters University': [('hey', 60),\n",
       "  ('im', 55),\n",
       "  ('scare', 51),\n",
       "  ('dont', 38),\n",
       "  ('just', 37),\n",
       "  ('going', 35),\n",
       "  ('okay', 34),\n",
       "  ('right', 32),\n",
       "  ('youre', 31),\n",
       "  ('come', 30)],\n",
       " 'Monsters, Inc.': [('hey', 84),\n",
       "  ('oh', 81),\n",
       "  ('sulley', 40),\n",
       "  ('mike', 39),\n",
       "  ('dont', 39),\n",
       "  ('going', 39),\n",
       "  ('just', 37),\n",
       "  ('im', 37),\n",
       "  ('come', 37),\n",
       "  ('know', 32)],\n",
       " 'Mulan': [('mulan', 33),\n",
       "  ('man', 31),\n",
       "  ('dont', 26),\n",
       "  ('im', 26),\n",
       "  ('family', 24),\n",
       "  ('like', 23),\n",
       "  ('come', 23),\n",
       "  ('youre', 22),\n",
       "  ('just', 20),\n",
       "  ('girl', 20)],\n",
       " 'Onward': [('oh', 70),\n",
       "  ('just', 66),\n",
       "  ('okay', 63),\n",
       "  ('im', 61),\n",
       "  ('dont', 57),\n",
       "  ('know', 51),\n",
       "  ('dad', 50),\n",
       "  ('yeah', 41),\n",
       "  ('right', 39),\n",
       "  ('gonna', 37)]}"
      ]
     },
     "execution_count": 95,
     "metadata": {},
     "output_type": "execute_result"
    }
   ],
   "source": [
    "dict(list(top_dict.items())[0:5])"
   ]
  },
  {
   "cell_type": "code",
   "execution_count": 179,
   "id": "1dc4fa3e",
   "metadata": {},
   "outputs": [],
   "source": [
    "# Re-add the additional stop words since we are recreating the document-term matrix\n",
    "add_stop_words = ['like', 'im', 'know', 'just', 'dont', 'thats', 'right', 'people','didnt','id','day',\n",
    "                  'youre','got','gonna','time','think','yeah','said','ah','oh','ho','hey','man','hes',\n",
    "                  'hi','sure','heh','hes','shes','lets','let','way','whoa','yes','ya','yeah','ok','okay',\n",
    "                  'mr','uh','huh','ta','ha','look','thing','that','like','ill','come','want','say',\n",
    "                  'tell','wait','miss','going','need','did','aah','ah','aaah','new','what','whats',\n",
    "                  'ive','theyre','aint','gotta','stop','theres','shall','hmm','hmmm',\n",
    "                  'youll','make','mean','yall','doing','really','away','wont','buzz','youve',\n",
    "                  'great','little','subtiles','subtitles','thank','sorry','thanks','dear','sir',\n",
    "                  'hello','right','left','guys','big','small','nice','gon'\n",
    "                ]\n",
    "stop_words = text.ENGLISH_STOP_WORDS.union(add_stop_words)"
   ]
  },
  {
   "cell_type": "code",
   "execution_count": 159,
   "id": "cd93184e",
   "metadata": {},
   "outputs": [],
   "source": [
    "#redoing after updating stop words\n",
    "cv2 = CountVectorizer(stop_words=stop_words)\n",
    "data_cv2 = cv2.fit_transform(disney_df_final.subtitles)\n",
    "data_dtm2 = pd.DataFrame(data_cv2.toarray(), columns=cv2.get_feature_names())\n",
    "data_dtm2.index = disney_df_final['title']"
   ]
  },
  {
   "cell_type": "code",
   "execution_count": 160,
   "id": "ed162608",
   "metadata": {},
   "outputs": [],
   "source": [
    "data_T2 = data_dtm2.transpose()"
   ]
  },
  {
   "cell_type": "code",
   "execution_count": 157,
   "id": "ca85a856",
   "metadata": {},
   "outputs": [
    {
     "data": {
      "text/html": [
       "<div>\n",
       "<style scoped>\n",
       "    .dataframe tbody tr th:only-of-type {\n",
       "        vertical-align: middle;\n",
       "    }\n",
       "\n",
       "    .dataframe tbody tr th {\n",
       "        vertical-align: top;\n",
       "    }\n",
       "\n",
       "    .dataframe thead th {\n",
       "        text-align: right;\n",
       "    }\n",
       "</style>\n",
       "<table border=\"1\" class=\"dataframe\">\n",
       "  <thead>\n",
       "    <tr style=\"text-align: right;\">\n",
       "      <th>title</th>\n",
       "      <th>Avatar</th>\n",
       "      <th>Bambi</th>\n",
       "      <th>Beauty and the Beast</th>\n",
       "      <th>Bedknobs and Broomsticks</th>\n",
       "      <th>Big Hero 6</th>\n",
       "      <th>Brave</th>\n",
       "      <th>Cars</th>\n",
       "      <th>Cars 2</th>\n",
       "      <th>Cars 3</th>\n",
       "      <th>Cinderella</th>\n",
       "      <th>...</th>\n",
       "      <th>Tuck Everlasting</th>\n",
       "      <th>Up</th>\n",
       "      <th>Who Framed Roger Rabbit</th>\n",
       "      <th>Zootopia</th>\n",
       "      <th>10 Things I Hate About You</th>\n",
       "      <th>101 Dalmatians</th>\n",
       "      <th>A Bug's Life</th>\n",
       "      <th>Aladdin</th>\n",
       "      <th>Alice in Wonderland</th>\n",
       "      <th>Atlantis: The Lost Empire</th>\n",
       "    </tr>\n",
       "  </thead>\n",
       "  <tbody>\n",
       "    <tr>\n",
       "      <th>aa</th>\n",
       "      <td>0</td>\n",
       "      <td>0</td>\n",
       "      <td>0</td>\n",
       "      <td>0</td>\n",
       "      <td>0</td>\n",
       "      <td>1</td>\n",
       "      <td>0</td>\n",
       "      <td>0</td>\n",
       "      <td>0</td>\n",
       "      <td>0</td>\n",
       "      <td>...</td>\n",
       "      <td>0</td>\n",
       "      <td>0</td>\n",
       "      <td>0</td>\n",
       "      <td>0</td>\n",
       "      <td>0</td>\n",
       "      <td>0</td>\n",
       "      <td>0</td>\n",
       "      <td>0</td>\n",
       "      <td>0</td>\n",
       "      <td>0</td>\n",
       "    </tr>\n",
       "    <tr>\n",
       "      <th>aaa</th>\n",
       "      <td>0</td>\n",
       "      <td>0</td>\n",
       "      <td>0</td>\n",
       "      <td>0</td>\n",
       "      <td>0</td>\n",
       "      <td>0</td>\n",
       "      <td>0</td>\n",
       "      <td>1</td>\n",
       "      <td>0</td>\n",
       "      <td>0</td>\n",
       "      <td>...</td>\n",
       "      <td>0</td>\n",
       "      <td>0</td>\n",
       "      <td>0</td>\n",
       "      <td>0</td>\n",
       "      <td>0</td>\n",
       "      <td>0</td>\n",
       "      <td>0</td>\n",
       "      <td>0</td>\n",
       "      <td>0</td>\n",
       "      <td>0</td>\n",
       "    </tr>\n",
       "    <tr>\n",
       "      <th>aaaaaaaah</th>\n",
       "      <td>0</td>\n",
       "      <td>0</td>\n",
       "      <td>0</td>\n",
       "      <td>0</td>\n",
       "      <td>0</td>\n",
       "      <td>0</td>\n",
       "      <td>0</td>\n",
       "      <td>0</td>\n",
       "      <td>0</td>\n",
       "      <td>0</td>\n",
       "      <td>...</td>\n",
       "      <td>0</td>\n",
       "      <td>0</td>\n",
       "      <td>0</td>\n",
       "      <td>0</td>\n",
       "      <td>0</td>\n",
       "      <td>0</td>\n",
       "      <td>0</td>\n",
       "      <td>0</td>\n",
       "      <td>0</td>\n",
       "      <td>0</td>\n",
       "    </tr>\n",
       "    <tr>\n",
       "      <th>aaaaaaah</th>\n",
       "      <td>0</td>\n",
       "      <td>0</td>\n",
       "      <td>0</td>\n",
       "      <td>0</td>\n",
       "      <td>0</td>\n",
       "      <td>0</td>\n",
       "      <td>0</td>\n",
       "      <td>0</td>\n",
       "      <td>0</td>\n",
       "      <td>0</td>\n",
       "      <td>...</td>\n",
       "      <td>0</td>\n",
       "      <td>0</td>\n",
       "      <td>0</td>\n",
       "      <td>0</td>\n",
       "      <td>0</td>\n",
       "      <td>0</td>\n",
       "      <td>0</td>\n",
       "      <td>0</td>\n",
       "      <td>0</td>\n",
       "      <td>0</td>\n",
       "    </tr>\n",
       "    <tr>\n",
       "      <th>aaaaaah</th>\n",
       "      <td>0</td>\n",
       "      <td>0</td>\n",
       "      <td>0</td>\n",
       "      <td>0</td>\n",
       "      <td>0</td>\n",
       "      <td>0</td>\n",
       "      <td>0</td>\n",
       "      <td>0</td>\n",
       "      <td>0</td>\n",
       "      <td>0</td>\n",
       "      <td>...</td>\n",
       "      <td>0</td>\n",
       "      <td>0</td>\n",
       "      <td>0</td>\n",
       "      <td>0</td>\n",
       "      <td>0</td>\n",
       "      <td>0</td>\n",
       "      <td>0</td>\n",
       "      <td>0</td>\n",
       "      <td>0</td>\n",
       "      <td>0</td>\n",
       "    </tr>\n",
       "    <tr>\n",
       "      <th>aaaaah</th>\n",
       "      <td>0</td>\n",
       "      <td>0</td>\n",
       "      <td>0</td>\n",
       "      <td>0</td>\n",
       "      <td>0</td>\n",
       "      <td>0</td>\n",
       "      <td>0</td>\n",
       "      <td>0</td>\n",
       "      <td>0</td>\n",
       "      <td>0</td>\n",
       "      <td>...</td>\n",
       "      <td>0</td>\n",
       "      <td>0</td>\n",
       "      <td>0</td>\n",
       "      <td>0</td>\n",
       "      <td>0</td>\n",
       "      <td>0</td>\n",
       "      <td>0</td>\n",
       "      <td>0</td>\n",
       "      <td>0</td>\n",
       "      <td>0</td>\n",
       "    </tr>\n",
       "    <tr>\n",
       "      <th>aaaaahhhhh</th>\n",
       "      <td>0</td>\n",
       "      <td>0</td>\n",
       "      <td>0</td>\n",
       "      <td>0</td>\n",
       "      <td>0</td>\n",
       "      <td>0</td>\n",
       "      <td>0</td>\n",
       "      <td>0</td>\n",
       "      <td>0</td>\n",
       "      <td>0</td>\n",
       "      <td>...</td>\n",
       "      <td>0</td>\n",
       "      <td>0</td>\n",
       "      <td>0</td>\n",
       "      <td>0</td>\n",
       "      <td>0</td>\n",
       "      <td>0</td>\n",
       "      <td>0</td>\n",
       "      <td>1</td>\n",
       "      <td>0</td>\n",
       "      <td>0</td>\n",
       "    </tr>\n",
       "    <tr>\n",
       "      <th>aaaah</th>\n",
       "      <td>0</td>\n",
       "      <td>0</td>\n",
       "      <td>0</td>\n",
       "      <td>0</td>\n",
       "      <td>0</td>\n",
       "      <td>0</td>\n",
       "      <td>0</td>\n",
       "      <td>2</td>\n",
       "      <td>0</td>\n",
       "      <td>0</td>\n",
       "      <td>...</td>\n",
       "      <td>0</td>\n",
       "      <td>0</td>\n",
       "      <td>0</td>\n",
       "      <td>0</td>\n",
       "      <td>0</td>\n",
       "      <td>0</td>\n",
       "      <td>0</td>\n",
       "      <td>0</td>\n",
       "      <td>0</td>\n",
       "      <td>0</td>\n",
       "    </tr>\n",
       "    <tr>\n",
       "      <th>aaargh</th>\n",
       "      <td>0</td>\n",
       "      <td>0</td>\n",
       "      <td>0</td>\n",
       "      <td>0</td>\n",
       "      <td>0</td>\n",
       "      <td>0</td>\n",
       "      <td>0</td>\n",
       "      <td>1</td>\n",
       "      <td>0</td>\n",
       "      <td>0</td>\n",
       "      <td>...</td>\n",
       "      <td>0</td>\n",
       "      <td>0</td>\n",
       "      <td>0</td>\n",
       "      <td>0</td>\n",
       "      <td>0</td>\n",
       "      <td>0</td>\n",
       "      <td>0</td>\n",
       "      <td>0</td>\n",
       "      <td>0</td>\n",
       "      <td>0</td>\n",
       "    </tr>\n",
       "    <tr>\n",
       "      <th>aaarrgh</th>\n",
       "      <td>0</td>\n",
       "      <td>0</td>\n",
       "      <td>0</td>\n",
       "      <td>0</td>\n",
       "      <td>0</td>\n",
       "      <td>0</td>\n",
       "      <td>0</td>\n",
       "      <td>0</td>\n",
       "      <td>0</td>\n",
       "      <td>0</td>\n",
       "      <td>...</td>\n",
       "      <td>0</td>\n",
       "      <td>0</td>\n",
       "      <td>0</td>\n",
       "      <td>0</td>\n",
       "      <td>0</td>\n",
       "      <td>0</td>\n",
       "      <td>0</td>\n",
       "      <td>0</td>\n",
       "      <td>0</td>\n",
       "      <td>0</td>\n",
       "    </tr>\n",
       "  </tbody>\n",
       "</table>\n",
       "<p>10 rows × 91 columns</p>\n",
       "</div>"
      ],
      "text/plain": [
       "title       Avatar  Bambi  Beauty and the Beast  Bedknobs and Broomsticks  \\\n",
       "aa               0      0                     0                         0   \n",
       "aaa              0      0                     0                         0   \n",
       "aaaaaaaah        0      0                     0                         0   \n",
       "aaaaaaah         0      0                     0                         0   \n",
       "aaaaaah          0      0                     0                         0   \n",
       "aaaaah           0      0                     0                         0   \n",
       "aaaaahhhhh       0      0                     0                         0   \n",
       "aaaah            0      0                     0                         0   \n",
       "aaargh           0      0                     0                         0   \n",
       "aaarrgh          0      0                     0                         0   \n",
       "\n",
       "title       Big Hero 6  Brave  Cars  Cars 2  Cars 3  Cinderella  ...  \\\n",
       "aa                   0      1     0       0       0           0  ...   \n",
       "aaa                  0      0     0       1       0           0  ...   \n",
       "aaaaaaaah            0      0     0       0       0           0  ...   \n",
       "aaaaaaah             0      0     0       0       0           0  ...   \n",
       "aaaaaah              0      0     0       0       0           0  ...   \n",
       "aaaaah               0      0     0       0       0           0  ...   \n",
       "aaaaahhhhh           0      0     0       0       0           0  ...   \n",
       "aaaah                0      0     0       2       0           0  ...   \n",
       "aaargh               0      0     0       1       0           0  ...   \n",
       "aaarrgh              0      0     0       0       0           0  ...   \n",
       "\n",
       "title       Tuck Everlasting  Up  Who Framed Roger Rabbit  Zootopia  \\\n",
       "aa                         0   0                        0         0   \n",
       "aaa                        0   0                        0         0   \n",
       "aaaaaaaah                  0   0                        0         0   \n",
       "aaaaaaah                   0   0                        0         0   \n",
       "aaaaaah                    0   0                        0         0   \n",
       "aaaaah                     0   0                        0         0   \n",
       "aaaaahhhhh                 0   0                        0         0   \n",
       "aaaah                      0   0                        0         0   \n",
       "aaargh                     0   0                        0         0   \n",
       "aaarrgh                    0   0                        0         0   \n",
       "\n",
       "title       10 Things I Hate About You  101 Dalmatians  A Bug's Life  Aladdin  \\\n",
       "aa                                   0               0             0        0   \n",
       "aaa                                  0               0             0        0   \n",
       "aaaaaaaah                            0               0             0        0   \n",
       "aaaaaaah                             0               0             0        0   \n",
       "aaaaaah                              0               0             0        0   \n",
       "aaaaah                               0               0             0        0   \n",
       "aaaaahhhhh                           0               0             0        1   \n",
       "aaaah                                0               0             0        0   \n",
       "aaargh                               0               0             0        0   \n",
       "aaarrgh                              0               0             0        0   \n",
       "\n",
       "title       Alice in Wonderland  Atlantis: The Lost Empire  \n",
       "aa                            0                          0  \n",
       "aaa                           0                          0  \n",
       "aaaaaaaah                     0                          0  \n",
       "aaaaaaah                      0                          0  \n",
       "aaaaaah                       0                          0  \n",
       "aaaaah                        0                          0  \n",
       "aaaaahhhhh                    0                          0  \n",
       "aaaah                         0                          0  \n",
       "aaargh                        0                          0  \n",
       "aaarrgh                       0                          0  \n",
       "\n",
       "[10 rows x 91 columns]"
      ]
     },
     "execution_count": 157,
     "metadata": {},
     "output_type": "execute_result"
    }
   ],
   "source": [
    "data_T2.head(10)"
   ]
  },
  {
   "cell_type": "code",
   "execution_count": 161,
   "id": "74666efa",
   "metadata": {},
   "outputs": [],
   "source": [
    "# Find the top words in each movie\n",
    "top_dict2 = {}\n",
    "for c in data_T2.columns:\n",
    "    top = data_T2[c].sort_values(ascending=False).head(10)\n",
    "    top_dict2[c]= list(zip(top.index, top.values))"
   ]
  },
  {
   "cell_type": "code",
   "execution_count": 124,
   "id": "3f53128e",
   "metadata": {},
   "outputs": [],
   "source": [
    "# dict(list(top_dict2.items())[:10])"
   ]
  },
  {
   "cell_type": "markdown",
   "id": "f7d85d60",
   "metadata": {},
   "source": [
    "#### LDA - Attempt 1"
   ]
  },
  {
   "cell_type": "code",
   "execution_count": 162,
   "id": "39a41f8a",
   "metadata": {},
   "outputs": [],
   "source": [
    "# Another req - sparse mtx, from df --> sparse matrix --> gensim corpus\n",
    "sparse_counts = scipy.sparse.csr_matrix(data_T2)\n",
    "corpus = matutils.Sparse2Corpus(sparse_counts)"
   ]
  },
  {
   "cell_type": "code",
   "execution_count": 163,
   "id": "c6916d02",
   "metadata": {},
   "outputs": [],
   "source": [
    "# Gensim also requires dictionary of the all terms and their respective location in the term-document matrix\n",
    "id2word = dict((v, k) for k, v in cv2.vocabulary_.items())"
   ]
  },
  {
   "cell_type": "code",
   "execution_count": 153,
   "id": "64228b70",
   "metadata": {},
   "outputs": [
    {
     "data": {
      "text/plain": [
       "{10837: 'loaded',\n",
       " 12086: 'mother',\n",
       " 17092: 'smile',\n",
       " 11540: 'meeting',\n",
       " 17339: 'sound',\n",
       " 7150: 'formal',\n",
       " 18012: 'studied',\n",
       " 21165: 'years',\n",
       " 10533: 'learn',\n",
       " 2672: 'calm',\n",
       " 19479: 'tsutey',\n",
       " 4857: 'demons',\n",
       " 7100: 'forbidden',\n",
       " 16793: 'sign',\n",
       " 11432: 'matter'}"
      ]
     },
     "execution_count": 153,
     "metadata": {},
     "output_type": "execute_result"
    }
   ],
   "source": [
    "dict(list(id2word.items())[:15])"
   ]
  },
  {
   "cell_type": "code",
   "execution_count": 168,
   "id": "0301a789",
   "metadata": {},
   "outputs": [
    {
     "data": {
      "text/plain": [
       "[(0,\n",
       "  '0.004*\"boy\" + 0.004*\"help\" + 0.003*\"dad\" + 0.003*\"love\" + 0.003*\"home\" + 0.002*\"old\" + 0.002*\"world\" + 0.002*\"better\" + 0.002*\"life\" + 0.002*\"work\"'),\n",
       " (1,\n",
       "  '0.004*\"boy\" + 0.004*\"love\" + 0.004*\"help\" + 0.003*\"old\" + 0.003*\"life\" + 0.003*\"home\" + 0.003*\"george\" + 0.003*\"place\" + 0.002*\"king\" + 0.002*\"best\"'),\n",
       " (2,\n",
       "  '0.004*\"help\" + 0.004*\"love\" + 0.003*\"boy\" + 0.002*\"life\" + 0.002*\"home\" + 0.002*\"kid\" + 0.002*\"old\" + 0.002*\"course\" + 0.002*\"long\" + 0.002*\"things\"'),\n",
       " (3,\n",
       "  '0.004*\"love\" + 0.003*\"help\" + 0.003*\"boy\" + 0.003*\"old\" + 0.003*\"woody\" + 0.003*\"mother\" + 0.003*\"life\" + 0.003*\"better\" + 0.003*\"mom\" + 0.002*\"girl\"')]"
      ]
     },
     "execution_count": 168,
     "metadata": {},
     "output_type": "execute_result"
    }
   ],
   "source": [
    "#LDA - Latent Dirichlet Allocation\n",
    "lda = models.LdaModel(corpus=corpus, id2word=id2word, num_topics=4, passes=10)\n",
    "lda.print_topics()"
   ]
  },
  {
   "cell_type": "code",
   "execution_count": 189,
   "id": "ba9dce9d",
   "metadata": {},
   "outputs": [
    {
     "data": {
      "text/plain": [
       "[(0,\n",
       "  '0.004*\"help\" + 0.004*\"love\" + 0.003*\"dad\" + 0.003*\"home\" + 0.003*\"boy\" + 0.003*\"life\" + 0.002*\"old\" + 0.002*\"woody\" + 0.002*\"mom\" + 0.002*\"long\"'),\n",
       " (1,\n",
       "  '0.004*\"help\" + 0.003*\"love\" + 0.003*\"boy\" + 0.002*\"old\" + 0.002*\"peter\" + 0.002*\"wish\" + 0.002*\"princess\" + 0.002*\"captain\" + 0.002*\"life\" + 0.002*\"home\"'),\n",
       " (2,\n",
       "  '0.004*\"boy\" + 0.003*\"love\" + 0.003*\"help\" + 0.003*\"old\" + 0.003*\"life\" + 0.002*\"home\" + 0.002*\"better\" + 0.002*\"world\" + 0.002*\"father\" + 0.002*\"place\"')]"
      ]
     },
     "execution_count": 189,
     "metadata": {},
     "output_type": "execute_result"
    }
   ],
   "source": [
    "#LDA - Latent Dirichlet Allocation\n",
    "lda = models.LdaModel(corpus=corpus, id2word=id2word, num_topics=3, passes=50)\n",
    "lda.print_topics()"
   ]
  },
  {
   "cell_type": "markdown",
   "id": "c8f64b80",
   "metadata": {},
   "source": [
    "#### Inference:\n",
    "Topic 0:Love(loving/helping)\n",
    "Topic 1:boy"
   ]
  },
  {
   "cell_type": "markdown",
   "id": "d32f0fe4",
   "metadata": {},
   "source": [
    "#### Topic Modeling - Attempt #2 (Nouns Only)"
   ]
  },
  {
   "cell_type": "markdown",
   "id": "244a95b6",
   "metadata": {},
   "source": [
    "One popular trick is to look only at terms that are from one part of speech (only nouns, only adjectives, etc.). Check out the UPenn tag set: https://www.ling.upenn.edu/courses/Fall_2003/ling001/penn_treebank_pos.html."
   ]
  },
  {
   "cell_type": "code",
   "execution_count": 174,
   "id": "4d23bdfe",
   "metadata": {},
   "outputs": [],
   "source": [
    "# from nltk import word_tokenize, pos_tag\n",
    "# Import from nltx for below ops\n",
    "def nouns(text):\n",
    "    '''Given a string of text, tokenize the text and pull out only the nouns.'''\n",
    "    is_noun = lambda pos: pos[:2] == 'NN'\n",
    "    tokenized = word_tokenize(text)\n",
    "    all_nouns = [word for (word, pos) in pos_tag(tokenized) if is_noun(pos)] \n",
    "    return ' '.join(all_nouns)"
   ]
  },
  {
   "cell_type": "code",
   "execution_count": 175,
   "id": "53c40618",
   "metadata": {},
   "outputs": [],
   "source": [
    "data_nouns = pd.DataFrame(disney_df_final.subtitles.apply(nouns))"
   ]
  },
  {
   "cell_type": "code",
   "execution_count": 47,
   "id": "77b5ae61",
   "metadata": {},
   "outputs": [
    {
     "data": {
      "text/html": [
       "<div>\n",
       "<style scoped>\n",
       "    .dataframe tbody tr th:only-of-type {\n",
       "        vertical-align: middle;\n",
       "    }\n",
       "\n",
       "    .dataframe tbody tr th {\n",
       "        vertical-align: top;\n",
       "    }\n",
       "\n",
       "    .dataframe thead th {\n",
       "        text-align: right;\n",
       "    }\n",
       "</style>\n",
       "<table border=\"1\" class=\"dataframe\">\n",
       "  <thead>\n",
       "    <tr style=\"text-align: right;\">\n",
       "      <th></th>\n",
       "      <th>subtitles</th>\n",
       "    </tr>\n",
       "  </thead>\n",
       "  <tbody>\n",
       "    <tr>\n",
       "      <th>0</th>\n",
       "      <td>subtiles mother smile meeting i years people d...</td>\n",
       "    </tr>\n",
       "    <tr>\n",
       "      <th>1</th>\n",
       "      <td>love song life hope music day dawn love song t...</td>\n",
       "    </tr>\n",
       "  </tbody>\n",
       "</table>\n",
       "</div>"
      ],
      "text/plain": [
       "                                           subtitles\n",
       "0  subtiles mother smile meeting i years people d...\n",
       "1  love song life hope music day dawn love song t..."
      ]
     },
     "execution_count": 47,
     "metadata": {},
     "output_type": "execute_result"
    }
   ],
   "source": [
    "data_nouns.head(2)"
   ]
  },
  {
   "cell_type": "code",
   "execution_count": 180,
   "id": "8f8b2795",
   "metadata": {},
   "outputs": [],
   "source": [
    "# Recreate a document-term matrix with only nouns\n",
    "cvn = CountVectorizer(stop_words=stop_words)\n",
    "data_cvn = cvn.fit_transform(data_nouns.subtitles)\n",
    "data_dtmn = pd.DataFrame(data_cvn.toarray(), columns=cvn.get_feature_names())\n",
    "data_dtmn.index = data_nouns.index\n",
    "# data_dtmn"
   ]
  },
  {
   "cell_type": "code",
   "execution_count": 181,
   "id": "6b56afc3",
   "metadata": {},
   "outputs": [],
   "source": [
    "### Prep for LDA\n",
    "\n",
    "# Create the gensim corpus\n",
    "corpusn = matutils.Sparse2Corpus(scipy.sparse.csr_matrix(data_dtmn.transpose()))\n",
    "\n",
    "# Create the vocabulary dictionary\n",
    "id2wordn = dict((v, k) for k, v in cvn.vocabulary_.items())"
   ]
  },
  {
   "cell_type": "code",
   "execution_count": 186,
   "id": "9b493889",
   "metadata": {},
   "outputs": [
    {
     "data": {
      "text/plain": [
       "[(0,\n",
       "  '0.006*\"boy\" + 0.005*\"life\" + 0.005*\"home\" + 0.004*\"things\" + 0.004*\"world\" + 0.004*\"place\" + 0.004*\"family\" + 0.003*\"night\" + 0.003*\"heart\" + 0.003*\"course\"'),\n",
       " (1,\n",
       "  '0.005*\"life\" + 0.004*\"mom\" + 0.004*\"things\" + 0.004*\"night\" + 0.004*\"home\" + 0.003*\"course\" + 0.003*\"dad\" + 0.003*\"place\" + 0.003*\"woody\" + 0.003*\"boy\"')]"
      ]
     },
     "execution_count": 186,
     "metadata": {},
     "output_type": "execute_result"
    }
   ],
   "source": [
    "# Let's start with 2 topics\n",
    "ldan = models.LdaModel(corpus=corpusn, num_topics=2, id2word=id2wordn, passes=25)\n",
    "ldan.print_topics()"
   ]
  },
  {
   "cell_type": "markdown",
   "id": "40c84544",
   "metadata": {},
   "source": [
    "#### Inference: \n",
    "Topic 0 - Life/World\n",
    "Topic 1 - family/dad/mom"
   ]
  },
  {
   "cell_type": "markdown",
   "id": "f9a479f7",
   "metadata": {},
   "source": [
    "#### Topic Modeling - Attempt #2 (Nouns and Adjectives Only)"
   ]
  },
  {
   "cell_type": "code",
   "execution_count": 79,
   "id": "a06fe456",
   "metadata": {},
   "outputs": [],
   "source": [
    "# Let's create a function to pull out nouns from a string of text\n",
    "def nouns_adj(text):\n",
    "    '''Given a string of text, tokenize the text and pull out only the nouns and adjectives.'''\n",
    "    is_noun_adj = lambda pos: pos[:2] == 'NN' or pos[:2] == 'JJ'\n",
    "    tokenized = word_tokenize(text)\n",
    "    nouns_adj = [word for (word, pos) in pos_tag(tokenized) if is_noun_adj(pos)] \n",
    "    return ' '.join(nouns_adj)"
   ]
  },
  {
   "cell_type": "code",
   "execution_count": 170,
   "id": "ae5e5e32",
   "metadata": {},
   "outputs": [],
   "source": [
    "# Apply the nouns function to the transcripts to filter only on nouns\n",
    "data_nouns_adj = pd.DataFrame(disney_df_final.subtitles.apply(nouns_adj))\n",
    "# data_nouns_adj"
   ]
  },
  {
   "cell_type": "code",
   "execution_count": 183,
   "id": "1bb5823a",
   "metadata": {},
   "outputs": [],
   "source": [
    "# Create a new document-term matrix using only nouns and adjectives, also remove common words with max_df\n",
    "cvna = CountVectorizer(stop_words=stop_words, max_df=.8)\n",
    "data_cvna = cvna.fit_transform(data_nouns_adj.subtitles)\n",
    "data_dtmna = pd.DataFrame(data_cvna.toarray(), columns=cvna.get_feature_names())\n",
    "data_dtmna.index = data_nouns_adj.index\n",
    "# data_dtmna"
   ]
  },
  {
   "cell_type": "code",
   "execution_count": 184,
   "id": "8b68f007",
   "metadata": {},
   "outputs": [],
   "source": [
    "# Create the gensim corpus\n",
    "corpusna = matutils.Sparse2Corpus(scipy.sparse.csr_matrix(data_dtmna.transpose()))\n",
    "\n",
    "# Create the vocabulary dictionary\n",
    "id2wordna = dict((v, k) for k, v in cvna.vocabulary_.items())"
   ]
  },
  {
   "cell_type": "code",
   "execution_count": 187,
   "id": "7589a003",
   "metadata": {},
   "outputs": [
    {
     "data": {
      "text/plain": [
       "[(0,\n",
       "  '0.003*\"father\" + 0.003*\"dad\" + 0.003*\"girl\" + 0.002*\"family\" + 0.002*\"son\" + 0.002*\"school\" + 0.002*\"dead\" + 0.002*\"team\" + 0.002*\"friend\" + 0.002*\"kid\"'),\n",
       " (1,\n",
       "  '0.003*\"mom\" + 0.003*\"girl\" + 0.003*\"woody\" + 0.003*\"dad\" + 0.002*\"guy\" + 0.002*\"mother\" + 0.002*\"heart\" + 0.002*\"years\" + 0.002*\"room\" + 0.002*\"family\"')]"
      ]
     },
     "execution_count": 187,
     "metadata": {},
     "output_type": "execute_result"
    }
   ],
   "source": [
    "# Let's start with 2 topics\n",
    "ldana = models.LdaModel(corpus=corpusna, num_topics=2, id2word=id2wordna, passes=25)\n",
    "ldana.print_topics()"
   ]
  },
  {
   "cell_type": "code",
   "execution_count": null,
   "id": "03a28674",
   "metadata": {},
   "outputs": [],
   "source": []
  }
 ],
 "metadata": {
  "kernelspec": {
   "display_name": "Python 3",
   "language": "python",
   "name": "python3"
  },
  "language_info": {
   "codemirror_mode": {
    "name": "ipython",
    "version": 3
   },
   "file_extension": ".py",
   "mimetype": "text/x-python",
   "name": "python",
   "nbconvert_exporter": "python",
   "pygments_lexer": "ipython3",
   "version": "3.7.6"
  }
 },
 "nbformat": 4,
 "nbformat_minor": 5
}
